{
 "cells": [
  {
   "cell_type": "markdown",
   "metadata": {},
   "source": [
    "<h1 align = center>Numpy Library - Array Creation</h1>"
   ]
  },
  {
   "cell_type": "markdown",
   "metadata": {},
   "source": [
    "## Creating Numpy Arrays"
   ]
  },
  {
   "cell_type": "code",
   "execution_count": 1,
   "metadata": {},
   "outputs": [],
   "source": [
    "# to use numpy, we have to import it first. (of course it must have been installed in the first place) \n",
    "import numpy as np"
   ]
  },
  {
   "cell_type": "markdown",
   "metadata": {},
   "source": [
    "- Numpy array is created using `array()` method of numpy library. \n",
    "- This method requires a python `list` as an argument. We can not only pass required values in the form of list to create a new array can also pass an existed list as an argument and the array() method will convert it into a numpy array. \n",
    "- __Syntax__\n",
    "  - `np.array([a_list_of_elements])`"
   ]
  },
  {
   "cell_type": "code",
   "execution_count": 2,
   "metadata": {},
   "outputs": [
    {
     "name": "stdout",
     "output_type": "stream",
     "text": [
      "[1 2 3 4 5]\n",
      "<class 'numpy.ndarray'>\n"
     ]
    }
   ],
   "source": [
    "# creating one dimensional numpy arrays\n",
    "a_numpy_array = np.array([1,2,3,4,5])\n",
    "\n",
    "print(a_numpy_array)\n",
    "print(type(a_numpy_array))"
   ]
  },
  {
   "cell_type": "markdown",
   "metadata": {},
   "source": [
    "### Creating Multi-Dimensional Numpy Arrays\n",
    "- The simple array, created from a simple list are called 1 dimensional arrays. But numpy allows us to create arrays from lists of lists. In this case, these array are called multidimensional arrays. \n",
    "- If we are to create a numpy array form a list of lists, it will be called a 2 dimensional array. In the case of list of lists of lists, it will be called a 3 dimensional array and so on. \n",
    "- The syntax is simple, we just need to pass our list of lists to the array() method "
   ]
  },
  {
   "cell_type": "code",
   "execution_count": 3,
   "metadata": {},
   "outputs": [
    {
     "name": "stdout",
     "output_type": "stream",
     "text": [
      "[[1 2 3]\n",
      " [4 5 6]\n",
      " [7 8 9]]\n"
     ]
    }
   ],
   "source": [
    "'''\n",
    "Creating a 2D Array\n",
    "'''\n",
    "list_of_lists = [\n",
    "    [1,2,3],\n",
    "    [4,5,6],\n",
    "    [7,8,9]\n",
    "    ]\n",
    "\n",
    "two_d_array = np.array(list_of_lists)\n",
    "\n",
    "print(two_d_array)"
   ]
  },
  {
   "cell_type": "code",
   "execution_count": 4,
   "metadata": {},
   "outputs": [
    {
     "name": "stdout",
     "output_type": "stream",
     "text": [
      "[[[ 1  2  3]\n",
      "  [ 4  5  6]]\n",
      "\n",
      " [[ 7  8  9]\n",
      "  [10 11 12]]\n",
      "\n",
      " [[13 14 15]\n",
      "  [16 17 18]]]\n",
      "<class 'numpy.ndarray'>\n"
     ]
    }
   ],
   "source": [
    "'''\n",
    "Creating a 3D array\n",
    "'''\n",
    "list_of_lists_of_lists = [\n",
    "    [\n",
    "        [1, 2, 3],\n",
    "        [4, 5, 6]\n",
    "    ],\n",
    "    [\n",
    "        [7, 8, 9],\n",
    "        [10, 11, 12]\n",
    "    ],\n",
    "    [\n",
    "        [13, 14, 15],\n",
    "        [16, 17, 18]\n",
    "    ]\n",
    "]\n",
    "\n",
    "three_d_array = np.array(list_of_lists_of_lists)\n",
    "\n",
    "print(three_d_array)\n",
    "print(type(three_d_array))"
   ]
  },
  {
   "cell_type": "markdown",
   "metadata": {},
   "source": [
    "### Checking the Shape/Dimensions of a Numpy Array\n",
    "- We can use the `shape` property of a numpy array object to check its dimensions."
   ]
  },
  {
   "cell_type": "code",
   "execution_count": 5,
   "metadata": {},
   "outputs": [
    {
     "name": "stdout",
     "output_type": "stream",
     "text": [
      "The shape of our previous created arrays are as follows: \n",
      "The shape of a simple numpy array is : (5,)\n",
      "The shape of a 2D numpy array is : (3, 3)\n",
      "The shape of a 3D numpy array is : (3, 2, 3)\n"
     ]
    }
   ],
   "source": [
    "print('The shape of our previous created arrays are as follows: ')\n",
    "\n",
    "shape_one = a_numpy_array.shape\n",
    "shape_two = two_d_array.shape\n",
    "shape_three = three_d_array.shape\n",
    "\n",
    "print(f'The shape of a simple numpy array is : {shape_one}')\n",
    "print(f'The shape of a 2D numpy array is : {shape_two}')\n",
    "print(f'The shape of a 3D numpy array is : {shape_three}')"
   ]
  },
  {
   "cell_type": "markdown",
   "metadata": {},
   "source": [
    "- We can see here, that 1D array has just one row and zero columns, while 2D array is like a matrix having 3 rows and 3 columns. More than 2 dimensional array is called a `tensor` so our 3D array which is actually a tensor, has dimension (3,2,3) which states that there are 2 rows and 2 columns for each matrix and there are total 3 matrix."
   ]
  },
  {
   "cell_type": "markdown",
   "metadata": {},
   "source": [
    "## Some Commonly Used Special Numpy Arrays/Matrices"
   ]
  },
  {
   "cell_type": "markdown",
   "metadata": {},
   "source": [
    "### A Matrix of Zeros \n",
    "- Numpy provides a special method `np.zeros()` to create an array of our desired dimensions filled with zeros. This type of array is useful when we are working on a kind of data in which we need an array having specific dimensions and we will fill it with values as we progress through our program, a neural network is a widely known example. \n",
    "- __Syntax__:\n",
    "  - `np.zeros((a_tuple_stating_dimensions))`\n",
    "  - Note here, that we are not using `np.array()`, rather a different method `np.zeros()` is being used. \n",
    "  - Also note here, that unlike `np.array()` method, we are not passing a list as an argument, rather we are passing a tuple of dimensions. "
   ]
  },
  {
   "cell_type": "code",
   "execution_count": 6,
   "metadata": {},
   "outputs": [
    {
     "name": "stdout",
     "output_type": "stream",
     "text": [
      "Array with tuple already defined :\n",
      "[[0. 0. 0. 0.]\n",
      " [0. 0. 0. 0.]\n",
      " [0. 0. 0. 0.]]\n",
      "Array with dimensions directly supplied :\n",
      "[[0. 0. 0. 0.]\n",
      " [0. 0. 0. 0.]\n",
      " [0. 0. 0. 0.]\n",
      " [0. 0. 0. 0.]\n",
      " [0. 0. 0. 0.]\n",
      " [0. 0. 0. 0.]\n",
      " [0. 0. 0. 0.]\n",
      " [0. 0. 0. 0.]]\n"
     ]
    }
   ],
   "source": [
    "tuple_of_dimensions = (3,4) # we want to create an array having 3 rows and 4 columns \n",
    "\n",
    "array_of_zeros = np.zeros(tuple_of_dimensions)\n",
    "print(f'Array with tuple already defined :\\n{array_of_zeros}')\n",
    "\n",
    "array_of_zeros = np.zeros((8,4))\n",
    "print(f'Array with dimensions directly supplied :\\n{array_of_zeros}')\n",
    "\n"
   ]
  },
  {
   "cell_type": "markdown",
   "metadata": {},
   "source": [
    "### A Matrix of Ones `1s`\n",
    "- Just like an array of zeros, numpy also allows us to create arrays filled with `1s`. \n",
    "- __Syntax__:\n",
    "  - `np.ones(tuple_of_array_dimensions)`"
   ]
  },
  {
   "cell_type": "code",
   "execution_count": 7,
   "metadata": {},
   "outputs": [
    {
     "name": "stdout",
     "output_type": "stream",
     "text": [
      "[[1. 1. 1.]\n",
      " [1. 1. 1.]\n",
      " [1. 1. 1.]\n",
      " [1. 1. 1.]\n",
      " [1. 1. 1.]\n",
      " [1. 1. 1.]]\n"
     ]
    }
   ],
   "source": [
    "array_of_ones = np.ones((6,3))\n",
    "print(array_of_ones)"
   ]
  },
  {
   "cell_type": "markdown",
   "metadata": {},
   "source": [
    "### A Matrix of Random Numbers \n",
    "- Just like array of zeros, we can also create an array filled with random numbers and having our desired dimensions.\n",
    "- The created array will have random numbers between 0 and 1\n",
    "- __Syntax__:\n",
    "  - `np.random.random((a_tuple_of_dimensions))`"
   ]
  },
  {
   "cell_type": "code",
   "execution_count": 8,
   "metadata": {},
   "outputs": [
    {
     "name": "stdout",
     "output_type": "stream",
     "text": [
      "[[0.08254388 0.37054059 0.98414135]\n",
      " [0.34307166 0.96699003 0.25823118]\n",
      " [0.58237019 0.69407554 0.58347576]\n",
      " [0.91503993 0.70674127 0.94743637]\n",
      " [0.63196821 0.65150314 0.99358887]\n",
      " [0.33202798 0.39788045 0.41296186]]\n"
     ]
    }
   ],
   "source": [
    "random_numbers_array = np.random.random((6,3))\n",
    "print(random_numbers_array)"
   ]
  },
  {
   "cell_type": "markdown",
   "metadata": {},
   "source": [
    "### An Array of Numbers With Custom Lower and Upper Bound\n",
    "- Numpy facilitates us in creating arrays filled with numbers with a user defined lower and upper range of these numbers. \n",
    "- This kind of array is a one dimensional array. \n",
    "- The numbers are not random, but in a continues sequence.\n",
    "- __Syntax__:\n",
    "  - `np.arange(lower_bound, upper_bound, step_size(optional))`\n",
    "  - Note here that the argument is neither a list nor a tuple but a simple comma separated set of arguments mentioning lower and upper bounds. \n",
    "  - The lower bound number is included in the result, while the upper bound number is not included. \n",
    "- __With Step Size__:\n",
    "  - We can also pass a step size as a third argument after the lower and upper bounds. The generated numbers will have a gap equal to the mentioned step size."
   ]
  },
  {
   "cell_type": "code",
   "execution_count": 9,
   "metadata": {},
   "outputs": [
    {
     "name": "stdout",
     "output_type": "stream",
     "text": [
      "[ 1  2  3  4  5  6  7  8  9 10 11 12 13 14 15 16 17 18 19 20]\n",
      "[ 1  3  5  7  9 11 13 15 17 19]\n"
     ]
    }
   ],
   "source": [
    "lower_bound = 1\n",
    "upper_bound = 21\n",
    "step_size = 2\n",
    "\n",
    "# without step size\n",
    "random_array_with_custom_bounds = np.arange(lower_bound, upper_bound)\n",
    "print(random_array_with_custom_bounds)\n",
    "\n",
    "# with step size\n",
    "with_step_size = np.arange(lower_bound, upper_bound, step_size)\n",
    "print(with_step_size)"
   ]
  },
  {
   "cell_type": "markdown",
   "metadata": {},
   "source": [
    "### An Identity Matrix\n",
    "- An identity matrix is a special kind of square matrix (a matrix with the same number of rows and columns) in which all the elements of the principal diagonal (from the top left to the bottom right) are equal to 1, and all other elements are equal to 0.\n",
    "- __Syntax__:\n",
    "  - `np.identity(rows, optional_data_type_of_numbers)`\n",
    "  - It requires only number of rows and will create a square matrix accordingly, we cannot provide number of columns here. \n",
    "  - Data type as the second argument refers to the data type of numbers that will be filled in the matrix which are 0 and 1. \n"
   ]
  },
  {
   "cell_type": "code",
   "execution_count": 17,
   "metadata": {},
   "outputs": [
    {
     "name": "stdout",
     "output_type": "stream",
     "text": [
      "[[1. 0. 0. 0.]\n",
      " [0. 1. 0. 0.]\n",
      " [0. 0. 1. 0.]\n",
      " [0. 0. 0. 1.]]\n",
      "____\n",
      "\n",
      "[[1. 0. 0. 0. 0.]\n",
      " [0. 1. 0. 0. 0.]\n",
      " [0. 0. 1. 0. 0.]\n",
      " [0. 0. 0. 1. 0.]\n",
      " [0. 0. 0. 0. 1.]]\n"
     ]
    }
   ],
   "source": [
    "# identity matrix with numpy\n",
    "identity_matrix = np.identity(4)\n",
    "print(identity_matrix)\n",
    "\n",
    "print('____\\n')\n",
    "# with data type mentioned\n",
    "identity_matrix = np.identity(5)\n",
    "print(identity_matrix)"
   ]
  },
  {
   "cell_type": "markdown",
   "metadata": {},
   "source": [
    "#### An Identity Matrix with Custom Diagonal\n",
    "- The `np.identity()` method creates a pure identity matrix, and does not allow us to change its diagonal. \n",
    "- There is another useful method `np.eye` which allows us to generate custom identity matrices which our custom diagonal (means on which diagonal we want ot have 1 values). \n",
    "- It also facilitates us to mention custom matrix dimensions instead of a square matrix. \n",
    "- We can say that is a specialized form of identity matrix and not the original identity matrix. \n",
    "- __Syntax__:\n",
    "  - `np.eye(rows, columns, k (desired diagonal))`\n",
    "  - A positive k values moves the diagonal to the right, while a negative k values moves the diagonal to the left. "
   ]
  },
  {
   "cell_type": "code",
   "execution_count": 18,
   "metadata": {},
   "outputs": [
    {
     "name": "stdout",
     "output_type": "stream",
     "text": [
      "[[1. 0. 0. 0. 0. 0. 0. 0. 0. 0.]\n",
      " [0. 1. 0. 0. 0. 0. 0. 0. 0. 0.]\n",
      " [0. 0. 1. 0. 0. 0. 0. 0. 0. 0.]\n",
      " [0. 0. 0. 1. 0. 0. 0. 0. 0. 0.]\n",
      " [0. 0. 0. 0. 1. 0. 0. 0. 0. 0.]]\n"
     ]
    }
   ],
   "source": [
    "custom_identity_matrix = np.eye(5,10)\n",
    "print(custom_identity_matrix)"
   ]
  },
  {
   "cell_type": "markdown",
   "metadata": {},
   "source": [
    "- **_Here_** we can see that the diagonal is starting from the first column of the first row, however we can move it to our desired position using the `k` value. "
   ]
  },
  {
   "cell_type": "code",
   "execution_count": 19,
   "metadata": {},
   "outputs": [
    {
     "name": "stdout",
     "output_type": "stream",
     "text": [
      "[[0. 0. 0. 1. 0. 0. 0. 0. 0. 0.]\n",
      " [0. 0. 0. 0. 1. 0. 0. 0. 0. 0.]\n",
      " [0. 0. 0. 0. 0. 1. 0. 0. 0. 0.]\n",
      " [0. 0. 0. 0. 0. 0. 1. 0. 0. 0.]\n",
      " [0. 0. 0. 0. 0. 0. 0. 1. 0. 0.]]\n"
     ]
    }
   ],
   "source": [
    "custom_identity_matrix = np.eye(5,10,3)\n",
    "print(custom_identity_matrix)"
   ]
  },
  {
   "cell_type": "markdown",
   "metadata": {},
   "source": [
    "- **_Note Here_** that the 1s are not staring from the 4th column of the first row. "
   ]
  }
 ],
 "metadata": {
  "kernelspec": {
   "display_name": "base",
   "language": "python",
   "name": "python3"
  },
  "language_info": {
   "codemirror_mode": {
    "name": "ipython",
    "version": 3
   },
   "file_extension": ".py",
   "mimetype": "text/x-python",
   "name": "python",
   "nbconvert_exporter": "python",
   "pygments_lexer": "ipython3",
   "version": "3.12.4"
  }
 },
 "nbformat": 4,
 "nbformat_minor": 2
}
