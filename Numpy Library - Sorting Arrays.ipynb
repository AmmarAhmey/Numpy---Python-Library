{
 "cells": [
  {
   "cell_type": "markdown",
   "metadata": {},
   "source": [
    "<h1 align = center>Numpy Library - Sorting Arrays</h1>"
   ]
  },
  {
   "cell_type": "markdown",
   "metadata": {},
   "source": [
    "## Basic Sorting \n"
   ]
  },
  {
   "cell_type": "markdown",
   "metadata": {},
   "source": [
    "### Ascending Sorting\n",
    "Create a 1D NumPy array with random integers between 1 and 100. Sort the array in ascending order."
   ]
  },
  {
   "cell_type": "code",
   "execution_count": 1,
   "metadata": {},
   "outputs": [
    {
     "name": "stdout",
     "output_type": "stream",
     "text": [
      "original array : [34 12  5  7 56 89 22 45]\n",
      "sorted array : [ 5  7 12 22 34 45 56 89]\n"
     ]
    }
   ],
   "source": [
    "import numpy as np\n",
    "array = np.array([34, 12, 5, 7, 56, 89, 22, 45])\n",
    "print(f\"original array : {array}\")\n",
    "\n",
    "sorted_array = np.sort(array)\n",
    "print(f\"sorted array : {sorted_array}\")"
   ]
  },
  {
   "cell_type": "markdown",
   "metadata": {},
   "source": [
    "### Sorting in Descending Order\n",
    "- The numpy library does not support descending sorting. \n",
    "- However we can sort an array in ascending order and then revers the order of array element and can achieve the same result as descending order. \n",
    "  - We can reverse the elements of an array using the advance indexing technique that is used for make array slices with a step size. That is `array[start_index : stop_index : step_size]`.\n",
    "  - Here, if we write simple colons in place of both start index and stop index, it will mean that we want ot select all the elements. \n",
    "  - The third argument will mention a step size for element selection. \n",
    "  - Here if we write -1 in place of the step size, it will indicate that we want to fetch elements starting from the last index."
   ]
  },
  {
   "cell_type": "code",
   "execution_count": 2,
   "metadata": {},
   "outputs": [
    {
     "name": "stdout",
     "output_type": "stream",
     "text": [
      "[ 1  2  3  4  5  6  7  8  9 10 11 12 13 14 15]\n",
      "[4 5 6 7 8]\n",
      "[ 1  3  5  7  9 11 13 15]\n",
      "[15 14 13 12 11 10  9  8  7  6  5  4  3  2  1]\n"
     ]
    }
   ],
   "source": [
    "# here is how elements are selected starting from the last index\n",
    "a = np.arange(1,16)\n",
    "print(a)\n",
    "print(a[ 3 : 8 : 1])\n",
    "print(a[ 0 : 16 : 2])\n",
    "\n",
    "# starting from last index\n",
    "print(a[::-1])"
   ]
  },
  {
   "cell_type": "markdown",
   "metadata": {},
   "source": [
    "- Now, lets create a 1D NumPy array of integers and Sort it in descending order."
   ]
  },
  {
   "cell_type": "code",
   "execution_count": 3,
   "metadata": {},
   "outputs": [
    {
     "name": "stdout",
     "output_type": "stream",
     "text": [
      "original array : [67 89 54 72 95 62]\n",
      "sorted array : [95 89 72 67 62 54]\n"
     ]
    }
   ],
   "source": [
    "array = np.array([67, 89, 54, 72, 95, 62])\n",
    "print(f\"original array : {array}\")\n",
    "\n",
    "sorted_array = np.sort(array)\n",
    "sorted_array = sorted_array[: : -1]\n",
    "print(f\"sorted array : {sorted_array}\")"
   ]
  },
  {
   "cell_type": "markdown",
   "metadata": {},
   "source": [
    "## Sorting Along a Specific Axis in Multi-Dimensional Arrays"
   ]
  },
  {
   "cell_type": "markdown",
   "metadata": {},
   "source": [
    "### Sorting with `np.sort()`\n",
    "- Given a 2D array, let us sort the arrays according to rows.\n",
    "  - In this case, all the rows will be arranged in order. \n",
    "  - When we sort a 2D array according to its rows, we often think that the elements of each row will be sorted but this is not the case, instead, when we sort a 2D array according to rows, it is not the row elements that are sorted, rather rows are arranged according to the first element of each row in ascending order. Then it proceeds with the next element and 2nd element of all the rows are arranged in ascending order and so on. \n",
    "  - Of course, in this process, the contents of each row are changed. The rows we get once the sorting according to the rows is complete are completely different than the original rows.\n",
    "  - Sorting an array according to the rows is achieved via `axis` argument, where a value `0` is considered as row wise sorting. "
   ]
  },
  {
   "cell_type": "code",
   "execution_count": 6,
   "metadata": {},
   "outputs": [
    {
     "name": "stdout",
     "output_type": "stream",
     "text": [
      "the original array : \n",
      "\n",
      "[[25 12  7]\n",
      " [18  5 23]\n",
      " [45 35 10]]\n",
      "the sorted array : \n",
      "\n",
      "[[18  5  7]\n",
      " [25 12 10]\n",
      " [45 35 23]]\n"
     ]
    }
   ],
   "source": [
    "array = np.array([[25, 12, 7],\n",
    "                  [18, 5, 23],\n",
    "                  [45, 35, 10]])\n",
    "\n",
    "print(f\"the original array : \\n\\n{  array   }\")\n",
    "\n",
    "sorted_array = np.sort(array, axis = 0)\n",
    "print(f\"the sorted array : \\n\\n{     sorted_array    }\")"
   ]
  },
  {
   "cell_type": "markdown",
   "metadata": {},
   "source": [
    "__Note Here__\n",
    "- That the elements of each row are not same after sorting as compared to the original array. \n",
    "\n",
    "We can also sort our array according to its columns using `axis = 1`. "
   ]
  },
  {
   "cell_type": "code",
   "execution_count": 7,
   "metadata": {},
   "outputs": [
    {
     "name": "stdout",
     "output_type": "stream",
     "text": [
      "the original array : \n",
      "\n",
      "[[12  5  9]\n",
      " [ 8 15  3]\n",
      " [ 2 25  7]]\n",
      "the sorted array : \n",
      "\n",
      "[[ 5  9 12]\n",
      " [ 3  8 15]\n",
      " [ 2  7 25]]\n"
     ]
    }
   ],
   "source": [
    "array = np.array([[12, 5, 9],\n",
    "                  [8, 15, 3],\n",
    "                  [2, 25, 7]])\n",
    "print(f\"the original array : \\n\\n{  array   }\")\n",
    "\n",
    "sorted_array = np.sort(array, axis = 1)\n",
    "print(f\"the sorted array : \\n\\n{     sorted_array    }\")"
   ]
  },
  {
   "cell_type": "markdown",
   "metadata": {},
   "source": [
    "__We can see__ that by sorting the array on `axis = 1` or according to columns, results in such an array in which:\n",
    "- The position of rows does not change.\n",
    "- All the elements of each row are sorted in ascending order. \n",
    "- The elements of each row are the same as they were in the original array. "
   ]
  },
  {
   "cell_type": "markdown",
   "metadata": {},
   "source": [
    "### Sorting with `np.argsort()`\n",
    "- It returns the indices that would sort an array. Instead of returning the sorted values, it gives you the indices that represent the order in which the elements of the array should be arranged to obtain a sorted version.\n",
    "- __Syntax__:\n",
    "  - `numpy.argsort(our_array, axis=-1, kind=None, order=None)`\n",
    "  - our_array: The input array that you want to sort.\n",
    "    - axis: The axis along which to sort the array. Default is -1, which means the last axis. If the array is 1D, there’s only one axis.\n",
    "    - kind: The sorting algorithm to use. You can choose from:\n",
    "      - 'quicksort' (default)\n",
    "      - 'mergesort'\n",
    "      - 'heapsort'\n",
    "      - 'stable'\n",
    "    - order: When sorting a structured array, you can specify which fields to compare. Otherwise, this is usually set to None."
   ]
  },
  {
   "cell_type": "code",
   "execution_count": 10,
   "metadata": {},
   "outputs": [
    {
     "name": "stdout",
     "output_type": "stream",
     "text": [
      "The original array : [22 10 35 38  2  5 56  3 19]\n",
      "Indices to sort the elements : [4 7 5 1 8 0 2 3 6]\n",
      "Sorting array using the indices : [ 2  3  5 10 19 22 35 38 56]\n"
     ]
    }
   ],
   "source": [
    "# sorting 1D arrays\n",
    "\n",
    "our_array = np.array([22,10,35,38,2,5,56,3,19])\n",
    "print(f\"The original array : {  our_array   }\")\n",
    "\n",
    "sorting_indices = np.argsort(our_array)\n",
    "print(f\"Indices to sort the elements : {    sorting_indices }\")\n",
    "\n",
    "sorted_array = our_array[sorting_indices]\n",
    "print(f\"Sorting array using the indices : {     sorted_array    }\")"
   ]
  },
  {
   "cell_type": "code",
   "execution_count": 13,
   "metadata": {},
   "outputs": [
    {
     "name": "stdout",
     "output_type": "stream",
     "text": [
      "The original array : \n",
      "\n",
      "[[3 1 2]\n",
      " [9 7 8]]\n",
      "Indices to sort the elements : \n",
      "\n",
      "[[1 2 0]\n",
      " [1 2 0]]\n"
     ]
    }
   ],
   "source": [
    "# sorting multi dimensional arrays\n",
    "our_array = np.array([\n",
    "    [3, 1, 2], \n",
    "    [9, 7, 8]\n",
    "    ])\n",
    "\n",
    "print(f\"The original array : \\n\\n{  our_array   }\")\n",
    "\n",
    "sorting_indices = np.argsort(our_array, axis = 1)\n",
    "print(f\"Indices to sort the elements : \\n\\n{    sorting_indices }\")\n"
   ]
  },
  {
   "cell_type": "markdown",
   "metadata": {},
   "source": [
    "__Unfortunately__ in the case of a multi dimensional array, we cannot simply pass the indices returned by `np.argsort()` to our original array to access its elements in sorted order, rather, we need a special numpy method called `np.take_along_axis()` that requires the original array, sorting indices returned by the argsort method and the axis as its 3 arguments and returns the desired elements as an input."
   ]
  },
  {
   "cell_type": "code",
   "execution_count": 15,
   "metadata": {},
   "outputs": [
    {
     "name": "stdout",
     "output_type": "stream",
     "text": [
      "Sorting array using the indices : \n",
      "\n",
      "[[1 2 3]\n",
      " [7 8 9]]\n"
     ]
    }
   ],
   "source": [
    "sorted_array = np.take_along_axis(our_array, sorting_indices, axis = 1)\n",
    "print(f\"Sorting array using the indices : \\n\\n{     sorted_array    }\")"
   ]
  }
 ],
 "metadata": {
  "kernelspec": {
   "display_name": "base",
   "language": "python",
   "name": "python3"
  },
  "language_info": {
   "codemirror_mode": {
    "name": "ipython",
    "version": 3
   },
   "file_extension": ".py",
   "mimetype": "text/x-python",
   "name": "python",
   "nbconvert_exporter": "python",
   "pygments_lexer": "ipython3",
   "version": "3.11.5"
  }
 },
 "nbformat": 4,
 "nbformat_minor": 2
}
