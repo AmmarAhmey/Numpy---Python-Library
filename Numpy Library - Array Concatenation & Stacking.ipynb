{
 "cells": [
  {
   "cell_type": "markdown",
   "metadata": {},
   "source": [
    "<h1 align = center>Numpy Library - Array Manipulations</h1>"
   ]
  },
  {
   "cell_type": "markdown",
   "metadata": {},
   "source": [
    "# Basics of Concatenation & Stacking"
   ]
  },
  {
   "cell_type": "code",
   "execution_count": 1,
   "metadata": {},
   "outputs": [],
   "source": [
    "import numpy as np"
   ]
  },
  {
   "cell_type": "markdown",
   "metadata": {},
   "source": [
    "## Overview of Concatenation vs. Stacking\n",
    "- In NumPy, concatenation and stacking are techniques to join arrays, but they differ in subtle ways.\n",
    "- **Concatenation**: \n",
    "  - This is used to join arrays along an **existing axis**. For instance, if you're working with a 2D array, you can concatenate arrays along the row axis (axis=0) or column axis (axis=1).\n",
    "- **Stacking**: \n",
    "  - This is more flexible, as it can add a new axis (dimension) when combining arrays. Instead of just joining along an existing axis, you create higher-dimensional arrays."
   ]
  },
  {
   "cell_type": "markdown",
   "metadata": {},
   "source": [
    "## Differences Between Axis, Dimensions, and Shape Manipulation\n",
    "- Understanding axes and dimensions is crucial when working with concatenation and stacking. Let's break this down:\n",
    "- **Axes**: \n",
    "  - In a NumPy array, an axis is like a direction or dimension along which the array elements are organized. Think of axes as coordinates in space:\n",
    "    - Axis 0 refers to the rows in 2D arrays.\n",
    "    - Axis 1 refers to the columns in 2D arrays.\n",
    "    - Higher axes (e.g., 2, 3) refer to additional dimensions in multi-dimensional arrays.\n",
    "- **Dimensions**: \n",
    "  - The number of dimensions (or rank) of an array is determined by its shape. A 1D array has one dimension (like a vector), a 2D array has two dimensions (like a matrix), and so on."
   ]
  },
  {
   "cell_type": "code",
   "execution_count": 2,
   "metadata": {},
   "outputs": [
    {
     "name": "stdout",
     "output_type": "stream",
     "text": [
      "(3, 2)\n"
     ]
    }
   ],
   "source": [
    "arr = np.array([[1, 2], [3, 4], [5, 6]])\n",
    "print(arr.shape)  "
   ]
  },
  {
   "cell_type": "markdown",
   "metadata": {},
   "source": [
    "This tells us that arr has 3 rows and 2 columns.\n",
    "\n",
    "- **Shape manipulation**: \n",
    "    - When concatenating or stacking, the **shapes** of arrays must often be **compatible**, **especially when using concatenation**. If they aren't, you might need to reshape or transpose the arrays.\n",
    "- Example of shape mismatch:"
   ]
  },
  {
   "cell_type": "code",
   "execution_count": 3,
   "metadata": {},
   "outputs": [],
   "source": [
    "arr1 = np.array([[1, 2], [3, 4]])  # shape (2, 2)\n",
    "arr2 = np.array([[5, 6, 7]])       # shape (1, 3)\n",
    "\n",
    "# This will raise an error:\n",
    "# result = np.concatenate((arr1, arr2), axis=0)\n"
   ]
  },
  {
   "cell_type": "markdown",
   "metadata": {},
   "source": [
    "To fix this, you may need to reshape the arrays to have compatible dimensions."
   ]
  },
  {
   "cell_type": "markdown",
   "metadata": {},
   "source": [
    "## Choosing Between Concatenation and Stacking\n",
    "- When to use concatenation:\n",
    "  - When you want to merge arrays along an existing dimension (e.g., adding more rows or columns to a 2D array).\n",
    "  - The arrays you are merging already have compatible shapes along the dimensions you're interested in.\n",
    "- When to use stacking:\n",
    "  - When you need **to create a new dimension** in the resulting array.\n",
    "  - The **original arrays do not have the exact number of dimensions** or axes you want to merge, and you prefer **to introduce a new axis** to combine them.\n",
    "  - Use stack() when you need more control over where the new axis is created."
   ]
  },
  {
   "cell_type": "markdown",
   "metadata": {},
   "source": [
    "# Array Concatenation\n"
   ]
  },
  {
   "cell_type": "markdown",
   "metadata": {},
   "source": [
    "### Concatenating Single Dimensional Arrays\n",
    "- Syntax: `np.concatenate(tuple_of_arrays_to_concatenate)`\n",
    "- This function receives all the arrays to be concatenated as a first argument. These arrays are supplied in the form of a tuple. \n",
    "- The shape must be compatible for concatenation purpose. If we want to place the second array bellow the first array, the number of columns must be equal and if we want to place the second array at the right side of the first array to increase its columns by including the columns of the second array, the number of rows must be equal. It the case of single dimensional arrays, the shape is always the same for both i.e., compatible. "
   ]
  },
  {
   "cell_type": "code",
   "execution_count": 4,
   "metadata": {},
   "outputs": [
    {
     "name": "stdout",
     "output_type": "stream",
     "text": [
      "The shape of first array is : (5,)\n",
      "The Shape of the second array is : (5,)\n"
     ]
    }
   ],
   "source": [
    "x = np.array([1,2,3,4,5])\n",
    "y = np.array([6,7,8,9,10])\n",
    "\n",
    "shape1 = x.shape\n",
    "shape2 = y.shape\n",
    "\n",
    "print(f\"The shape of first array is : {shape1}\\nThe Shape of the second array is : {shape2}\")"
   ]
  },
  {
   "cell_type": "markdown",
   "metadata": {},
   "source": [
    "Discussion:\n",
    "- The shapes reveal that both of these arrays have only rows and no value for columns. That simply means that these are single dimensional arrays same as a collection of values in a python list.\n",
    "- As both of these arrays have same shape, these array can be concatenated. "
   ]
  },
  {
   "cell_type": "code",
   "execution_count": 5,
   "metadata": {},
   "outputs": [
    {
     "name": "stdout",
     "output_type": "stream",
     "text": [
      "(10,)\n",
      "[ 1  2  3  4  5  6  7  8  9 10]\n"
     ]
    }
   ],
   "source": [
    "tuple_of_arrays_to_concatenate = (x, y)\n",
    "z = np.concatenate(tuple_of_arrays_to_concatenate)\n",
    "print(z.shape)\n",
    "print(z)"
   ]
  },
  {
   "cell_type": "markdown",
   "metadata": {},
   "source": [
    "- **Its Simple:** \n",
    "  Concatenating single dimensional arrays is straight forward, things get tricky, once we try to concatenate multi dimensional arrays, such as 2D arrays. \n",
    "  Note Here: that the shape of arrays is the same, after the concatenation, it is not the case in array stacking. We shall see it later in stacking."
   ]
  },
  {
   "cell_type": "markdown",
   "metadata": {},
   "source": [
    "### Concatenating 2D/Multi-Dimensional Arrays\n"
   ]
  },
  {
   "cell_type": "code",
   "execution_count": 6,
   "metadata": {},
   "outputs": [
    {
     "name": "stdout",
     "output_type": "stream",
     "text": [
      "The shape of first array is : (2, 4)\n",
      "The Shape of the second array is : (2, 4)\n"
     ]
    }
   ],
   "source": [
    "x = np.array([\n",
    "    [1,2,3,4],\n",
    "    [5,6,7,8]\n",
    "])\n",
    "y = np.array([\n",
    "    [-1,-2,-3,-4],\n",
    "    [-5,-6,-7,-8]\n",
    "])\n",
    "\n",
    "shape1 = x.shape\n",
    "shape2 = y.shape\n",
    "\n",
    "print(f\"The shape of first array is : {shape1}\\nThe Shape of the second array is : {shape2}\")"
   ]
  },
  {
   "cell_type": "markdown",
   "metadata": {},
   "source": [
    "Discussion:\n",
    "- The shapes explain that both of these arrays have 2 rows and 4 columns. \n",
    "- Here comes the importance of shape.\n",
    "- As we can concatenate arrays in both directions i.e., rows or columns, the shape must be compatible in the direction in which we want to concatenate. \n",
    "\n",
    "Example 1:\n",
    "- Lets try to place the second array, bellow the first array. That may be called *row wise concatenation or axis 0 concatenation*. \n",
    "- In order to perform such concatenation i.e., placing the second array bellow the first array, the number of columns must be equal in both of these arrays. This condition is surely met here. \n",
    "- - This can be seen as adding more rows to an already existing array."
   ]
  },
  {
   "cell_type": "code",
   "execution_count": 7,
   "metadata": {},
   "outputs": [
    {
     "data": {
      "text/plain": [
       "array([[ 1,  2,  3,  4],\n",
       "       [ 5,  6,  7,  8],\n",
       "       [-1, -2, -3, -4],\n",
       "       [-5, -6, -7, -8]])"
      ]
     },
     "execution_count": 7,
     "metadata": {},
     "output_type": "execute_result"
    }
   ],
   "source": [
    "z = np.concatenate((x,y), axis = 0)\n",
    "z"
   ]
  },
  {
   "cell_type": "markdown",
   "metadata": {},
   "source": [
    "Example 2:\n",
    "- Now lets try to place the second array, at the right side of the first array. That may be called *column wise concatenation or axis 1 concatenation*. \n",
    "- In order to perform such concatenation i.e., placing the second array at the right side of the first array, the number of rows must be equal in both of these arrays. This condition is surely met here. \n",
    "- This can be seen as adding more columns to an already existing array."
   ]
  },
  {
   "cell_type": "code",
   "execution_count": 8,
   "metadata": {},
   "outputs": [
    {
     "data": {
      "text/plain": [
       "array([[ 1,  2,  3,  4, -1, -2, -3, -4],\n",
       "       [ 5,  6,  7,  8, -5, -6, -7, -8]])"
      ]
     },
     "execution_count": 8,
     "metadata": {},
     "output_type": "execute_result"
    }
   ],
   "source": [
    "z = np.concatenate((x,y), axis = 1)\n",
    "z"
   ]
  },
  {
   "cell_type": "markdown",
   "metadata": {},
   "source": [
    "## Array Stacking\n"
   ]
  },
  {
   "cell_type": "markdown",
   "metadata": {},
   "source": [
    "### Stacking Single Dimensional Arrays\n",
    "- **Syntax**:\n",
    "  - `np.stack(tuple_of_arrays)`"
   ]
  },
  {
   "cell_type": "code",
   "execution_count": 9,
   "metadata": {},
   "outputs": [
    {
     "name": "stdout",
     "output_type": "stream",
     "text": [
      "The shape of first array is : (5,)\n",
      "The Shape of the second array is : (5,)\n"
     ]
    }
   ],
   "source": [
    "x = np.array([1,2,3,4,5])\n",
    "y = np.array([6,7,8,9,10])\n",
    "\n",
    "shape1 = x.shape\n",
    "shape2 = y.shape\n",
    "\n",
    "print(f\"The shape of first array is : {shape1}\\nThe Shape of the second array is : {shape2}\")"
   ]
  },
  {
   "cell_type": "code",
   "execution_count": 10,
   "metadata": {},
   "outputs": [
    {
     "name": "stdout",
     "output_type": "stream",
     "text": [
      "(2, 5)\n",
      "[[ 1  2  3  4  5]\n",
      " [ 6  7  8  9 10]]\n"
     ]
    }
   ],
   "source": [
    "z = np.stack((x , y))\n",
    "print(z.shape)\n",
    "print(z)"
   ]
  },
  {
   "cell_type": "markdown",
   "metadata": {},
   "source": [
    "**Discussion**\n",
    "- We can see that the shape of the new array, created by the stacking, is not the same as the original arrays. Rather, the combined array have created a new dimension and now we have a 2D array instead of a 1D array. \n",
    "- So, as we know, that the stacking creates new dimensions, we can choose the direction where the new dimension should be created. That means we can stack these arrays horizontally or vertically. Same as array concatenation, this is achieved using the `axis` arguments. \n",
    "\n",
    "**Example 1**:\n",
    "- Lets combine the arrays in such a way that the new array is placed at the bottom of the first array and the new array is now a 2D array. This will be achieved using the first `axis`. "
   ]
  },
  {
   "cell_type": "code",
   "execution_count": 11,
   "metadata": {},
   "outputs": [
    {
     "name": "stdout",
     "output_type": "stream",
     "text": [
      "[[ 1  2  3  4  5]\n",
      " [ 6  7  8  9 10]]\n",
      "(2, 5)\n"
     ]
    }
   ],
   "source": [
    "z = np.stack((x,y), axis = 0)\n",
    "print(z)\n",
    "print(z.shape)"
   ]
  },
  {
   "cell_type": "markdown",
   "metadata": {},
   "source": [
    "**Example 2**:\n",
    "- Lets combine the arrays in such a way that the new array is placed at the right side of the first array and the new array is now a 2D array. This will be achieved using the second `axis`. \n",
    "- Unlike the array concatenation, stacking arrays side by side will not result in a simple array that have all the elements of both of these arrays, rather, the first single dimensional array will be arranged in the shape of a column and the second single dimensional array will also be arranged in the same way adn them both of these are combined into a new 2D array."
   ]
  },
  {
   "cell_type": "code",
   "execution_count": 12,
   "metadata": {},
   "outputs": [
    {
     "name": "stdout",
     "output_type": "stream",
     "text": [
      "[[ 1  6]\n",
      " [ 2  7]\n",
      " [ 3  8]\n",
      " [ 4  9]\n",
      " [ 5 10]]\n",
      "(5, 2)\n"
     ]
    }
   ],
   "source": [
    "z = np.stack((x,y), axis = 1)\n",
    "print(z)\n",
    "print(z.shape)"
   ]
  },
  {
   "cell_type": "markdown",
   "metadata": {},
   "source": [
    "**Example 3**:\n",
    "- Combining more than two arrays using stacking."
   ]
  },
  {
   "cell_type": "code",
   "execution_count": 13,
   "metadata": {},
   "outputs": [
    {
     "name": "stdout",
     "output_type": "stream",
     "text": [
      "[[ 1  6 11]\n",
      " [ 2  7 12]\n",
      " [ 3  8 13]\n",
      " [ 4  9 14]\n",
      " [ 5 10 15]]\n",
      "(5, 3)\n"
     ]
    }
   ],
   "source": [
    "# combining in the column fashion\n",
    "\n",
    "another_array = np.array([11,12,13,14,15])\n",
    "z = np.stack((x,y,another_array), axis = 1)\n",
    "print(z)\n",
    "print(z.shape)"
   ]
  },
  {
   "cell_type": "code",
   "execution_count": 14,
   "metadata": {},
   "outputs": [
    {
     "name": "stdout",
     "output_type": "stream",
     "text": [
      "[[ 1  2  3  4  5]\n",
      " [ 6  7  8  9 10]\n",
      " [11 12 13 14 15]]\n",
      "(3, 5)\n"
     ]
    }
   ],
   "source": [
    "# combining in the row fashion\n",
    "\n",
    "z = np.stack((x,y,another_array), axis = 0)\n",
    "print(z)\n",
    "print(z.shape)"
   ]
  },
  {
   "cell_type": "markdown",
   "metadata": {},
   "source": [
    "### Stacking 2D/Multi-Dimensional Arrays "
   ]
  },
  {
   "cell_type": "code",
   "execution_count": 15,
   "metadata": {},
   "outputs": [
    {
     "name": "stdout",
     "output_type": "stream",
     "text": [
      "The shape of first array is : (2, 4)\n",
      "The Shape of the second array is : (2, 4)\n"
     ]
    }
   ],
   "source": [
    "x = np.array([\n",
    "    [1,2,3,4],\n",
    "    [5,6,7,8]\n",
    "])\n",
    "y = np.array([\n",
    "    [-1,-2,-3,-4],\n",
    "    [-5,-6,-7,-8]\n",
    "])\n",
    "\n",
    "shape1 = x.shape\n",
    "shape2 = y.shape\n",
    "\n",
    "print(f\"The shape of first array is : {shape1}\\nThe Shape of the second array is : {shape2}\")"
   ]
  },
  {
   "cell_type": "markdown",
   "metadata": {},
   "source": [
    "#### Stacking Vertically / Adding More Rows\n",
    "- This is done using `vstack()` function. "
   ]
  },
  {
   "cell_type": "code",
   "execution_count": 18,
   "metadata": {},
   "outputs": [
    {
     "name": "stdout",
     "output_type": "stream",
     "text": [
      "(4, 4)\n",
      "[[ 1  2  3  4]\n",
      " [ 5  6  7  8]\n",
      " [-1 -2 -3 -4]\n",
      " [-5 -6 -7 -8]]\n"
     ]
    }
   ],
   "source": [
    "vertically_stacked = np.vstack((x,y))\n",
    "print(vertically_stacked.shape)\n",
    "print(vertically_stacked)"
   ]
  },
  {
   "cell_type": "markdown",
   "metadata": {},
   "source": [
    "#### Stacking Horizontally / Adding More Columns\n",
    "- This is done using `hstack()` function. "
   ]
  },
  {
   "cell_type": "code",
   "execution_count": 19,
   "metadata": {},
   "outputs": [
    {
     "name": "stdout",
     "output_type": "stream",
     "text": [
      "(2, 8)\n",
      "[[ 1  2  3  4 -1 -2 -3 -4]\n",
      " [ 5  6  7  8 -5 -6 -7 -8]]\n"
     ]
    }
   ],
   "source": [
    "horizontally_stacked = np.hstack((x, y))\n",
    "print(horizontally_stacked.shape)\n",
    "print(horizontally_stacked)"
   ]
  },
  {
   "cell_type": "markdown",
   "metadata": {},
   "source": [
    "**Discussion**\n",
    "- The `hstack` and `vstack` functions give us the same consolidated arrays as `concatenate` function using `axis = 1` and `axis = 0` respectively. "
   ]
  },
  {
   "cell_type": "markdown",
   "metadata": {},
   "source": [
    "### Combining Single Dimensional Arrays with Multi-Dimensional Arrays\n",
    "- So far we have seen that in order to combine two arrays, there shape should be compatible along the desired axis but there are scenarios in which we may need to combine arrays with different shapes. \n"
   ]
  },
  {
   "cell_type": "markdown",
   "metadata": {},
   "source": [
    "#### Adding Single Row to a 2D Array"
   ]
  },
  {
   "cell_type": "code",
   "execution_count": 37,
   "metadata": {},
   "outputs": [
    {
     "name": "stdout",
     "output_type": "stream",
     "text": [
      "(2, 4)\n",
      "(4,)\n"
     ]
    }
   ],
   "source": [
    "x = np.array([\n",
    "    [1,2,3,4],\n",
    "    [5,6,7,8]\n",
    "])\n",
    "\n",
    "y = np.array([9,10,11,12])\n",
    "\n",
    "print(x.shape)\n",
    "print(y.shape)"
   ]
  },
  {
   "cell_type": "code",
   "execution_count": null,
   "metadata": {},
   "outputs": [],
   "source": [
    "\"\"\"\n",
    "=================\n",
    "Both of the following methods will be unable to combine these rows \n",
    "and will raise the following value error\n",
    "ValueError: all input arrays must have the same shape\n",
    "=================\n",
    "\n",
    "z = np.concatenate((x, y))\n",
    "z = np.stack((x,y))\n",
    "\n",
    "\"\"\""
   ]
  },
  {
   "cell_type": "markdown",
   "metadata": {},
   "source": [
    "- Lets reshape the single dimensional array as a 2D array having the elements as a single row and multiple columns. "
   ]
  },
  {
   "cell_type": "code",
   "execution_count": 38,
   "metadata": {},
   "outputs": [
    {
     "name": "stdout",
     "output_type": "stream",
     "text": [
      "Old shape of y : (4,)\n",
      "New sahpe of y : (1, 4)\n",
      "And the new array looks like this : \n",
      "[[ 9 10 11 12]]\n"
     ]
    }
   ],
   "source": [
    "print(f\"Old shape of y : {y.shape}\")\n",
    "y = y.reshape(1,4)\n",
    "print(f\"New sahpe of y : {y.shape}\")\n",
    "print(f\"And the new array looks like this : \\n{y}\")\n"
   ]
  },
  {
   "cell_type": "markdown",
   "metadata": {},
   "source": [
    "- Lets now try to combine these arrays. "
   ]
  },
  {
   "cell_type": "code",
   "execution_count": 49,
   "metadata": {},
   "outputs": [
    {
     "name": "stdout",
     "output_type": "stream",
     "text": [
      "The shape of these two arrays is (2, 4), (1, 4)\n",
      "[[ 1  2  3  4]\n",
      " [ 5  6  7  8]\n",
      " [ 9 10 11 12]]\n",
      "\n",
      "[[ 1  2  3  4]\n",
      " [ 5  6  7  8]\n",
      " [ 9 10 11 12]]\n",
      "\n"
     ]
    }
   ],
   "source": [
    "print(f\"The shape of these two arrays is {x.shape}, {y.shape}\")\n",
    "\n",
    "# adding row using concatenate\n",
    "combined = np.concatenate((x,y), axis = 0)\n",
    "print(combined, end = '\\n\\n')\n",
    "\n",
    "# resetting combined array\n",
    "combined.fill(0)\n",
    "\n",
    "combined = np.vstack((x,y))\n",
    "print(combined, end= '\\n\\n')\n",
    "\n"
   ]
  },
  {
   "cell_type": "markdown",
   "metadata": {},
   "source": [
    "#### Adding a Single Column to a 2D Array"
   ]
  },
  {
   "cell_type": "code",
   "execution_count": 59,
   "metadata": {},
   "outputs": [
    {
     "name": "stdout",
     "output_type": "stream",
     "text": [
      "(4, 4)\n",
      "(4,)\n"
     ]
    }
   ],
   "source": [
    "x = np.zeros((4,4))\n",
    "\n",
    "y = np.array([9,10,11,12])\n",
    "\n",
    "print(x.shape)\n",
    "print(y.shape)"
   ]
  },
  {
   "cell_type": "markdown",
   "metadata": {},
   "source": [
    "- Lets reshape our single dimensional array to a column. This will be a 2D array having 4 rows and a single column. "
   ]
  },
  {
   "cell_type": "code",
   "execution_count": 60,
   "metadata": {},
   "outputs": [
    {
     "name": "stdout",
     "output_type": "stream",
     "text": [
      "Old shape of y : (4,)\n",
      "New sahpe of y : (4, 1)\n",
      "And the new array looks like this : \n",
      "[[ 9]\n",
      " [10]\n",
      " [11]\n",
      " [12]]\n"
     ]
    }
   ],
   "source": [
    "print(f\"Old shape of y : {y.shape}\")\n",
    "y = y.reshape(4,1)\n",
    "print(f\"New sahpe of y : {y.shape}\")\n",
    "print(f\"And the new array looks like this : \\n{y}\")"
   ]
  },
  {
   "cell_type": "markdown",
   "metadata": {},
   "source": [
    "- Now Add this column to our 2D array"
   ]
  },
  {
   "cell_type": "code",
   "execution_count": 61,
   "metadata": {},
   "outputs": [
    {
     "name": "stdout",
     "output_type": "stream",
     "text": [
      "The shape of these two arrays is \n",
      "(4, 4) \n",
      "(4, 1)\n",
      "[[ 0.  0.  0.  0.  9.]\n",
      " [ 0.  0.  0.  0. 10.]\n",
      " [ 0.  0.  0.  0. 11.]\n",
      " [ 0.  0.  0.  0. 12.]]\n",
      "\n",
      "[[ 0.  0.  0.  0.  9.]\n",
      " [ 0.  0.  0.  0. 10.]\n",
      " [ 0.  0.  0.  0. 11.]\n",
      " [ 0.  0.  0.  0. 12.]]\n",
      "\n"
     ]
    }
   ],
   "source": [
    "print(f\"The shape of these two arrays is \\n{x.shape} \\n{y.shape}\")\n",
    "\n",
    "# adding row using concatenate\n",
    "combined = np.concatenate((x,y), axis = 1)\n",
    "print(combined, end = '\\n\\n')\n",
    "\n",
    "# resetting combined array\n",
    "combined.fill(0)\n",
    "\n",
    "combined = np.hstack((x,y))\n",
    "print(combined, end= '\\n\\n')\n"
   ]
  },
  {
   "cell_type": "markdown",
   "metadata": {},
   "source": [
    "## Adding The 3rd Dimension / Depth Wise Combining"
   ]
  },
  {
   "cell_type": "code",
   "execution_count": 64,
   "metadata": {},
   "outputs": [
    {
     "name": "stdout",
     "output_type": "stream",
     "text": [
      "[1. 1. 1. 1. 1.] [0. 0. 0. 0. 0.]\n",
      "(5,) (5,)\n"
     ]
    }
   ],
   "source": [
    "x = np.ones(5)\n",
    "y = np.zeros(5)\n",
    "print(x,y)\n",
    "print(x.shape, y.shape)"
   ]
  },
  {
   "cell_type": "code",
   "execution_count": 65,
   "metadata": {},
   "outputs": [
    {
     "name": "stdout",
     "output_type": "stream",
     "text": [
      "(2, 5)\n",
      "[[1. 1. 1. 1. 1.]\n",
      " [0. 0. 0. 0. 0.]]\n"
     ]
    }
   ],
   "source": [
    "z = np.stack((x,y))\n",
    "print(z.shape)\n",
    "print(z)"
   ]
  },
  {
   "cell_type": "markdown",
   "metadata": {},
   "source": [
    "**Discussion:**\n",
    "- Note here that the newly combined array is not a single dimensional array having all the elements of first and second array combined, rather, the newly created is a 2D array that has 2 rows and 5 columns. This array combining method has created a new dimension instead of simply combining.\n",
    "\n",
    "\n",
    "**Lets Now Add a Third Dimension**"
   ]
  },
  {
   "cell_type": "code",
   "execution_count": 68,
   "metadata": {},
   "outputs": [
    {
     "name": "stdout",
     "output_type": "stream",
     "text": [
      "The old shape of z is (2, 5)\n",
      "The shape of newly created array is : (2, 5)\n",
      "\n",
      "\n",
      "The shape of combined array is : (2, 2, 5)\n",
      "[[[1. 1. 1. 1. 1.]\n",
      "  [0. 0. 0. 0. 0.]]\n",
      "\n",
      " [[8. 1. 4. 2. 6.]\n",
      "  [8. 7. 3. 4. 3.]]]\n"
     ]
    }
   ],
   "source": [
    "print(f\"The old shape of z is {z.shape}\")\n",
    "new_arr = np.random.randint(1,11,(2,5))\n",
    "print(f\"The shape of newly created array is : {new_arr.shape}\\n\\n\")\n",
    "\n",
    "combined = np.stack((z,new_arr))\n",
    "print(f\"The shape of combined array is : {combined.shape}\")\n",
    "print(combined)"
   ]
  },
  {
   "cell_type": "markdown",
   "metadata": {},
   "source": [
    "# Deleting Data from Numpy Arrays\n"
   ]
  },
  {
   "cell_type": "code",
   "execution_count": 71,
   "metadata": {},
   "outputs": [
    {
     "data": {
      "text/plain": [
       "array([[ 7,  1,  9, 10,  8],\n",
       "       [ 4,  6,  2, 10, 10],\n",
       "       [ 1,  3,  2,  3,  6],\n",
       "       [ 2,  4,  5,  5,  5],\n",
       "       [ 2,  7,  5,  8,  8]])"
      ]
     },
     "execution_count": 71,
     "metadata": {},
     "output_type": "execute_result"
    }
   ],
   "source": [
    "an_array = np.random.randint(1,11,(5,5))\n",
    "an_array"
   ]
  },
  {
   "cell_type": "markdown",
   "metadata": {},
   "source": [
    "## Deleting Specic Rows"
   ]
  },
  {
   "cell_type": "code",
   "execution_count": null,
   "metadata": {},
   "outputs": [],
   "source": []
  }
 ],
 "metadata": {
  "kernelspec": {
   "display_name": "base",
   "language": "python",
   "name": "python3"
  },
  "language_info": {
   "codemirror_mode": {
    "name": "ipython",
    "version": 3
   },
   "file_extension": ".py",
   "mimetype": "text/x-python",
   "name": "python",
   "nbconvert_exporter": "python",
   "pygments_lexer": "ipython3",
   "version": "3.11.5"
  }
 },
 "nbformat": 4,
 "nbformat_minor": 2
}
