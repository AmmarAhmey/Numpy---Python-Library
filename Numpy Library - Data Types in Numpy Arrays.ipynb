{
 "cells": [
  {
   "cell_type": "markdown",
   "metadata": {},
   "source": [
    "<h1 align = center>Numpy Library - Data Types in Numpy Arrays</h1>"
   ]
  },
  {
   "cell_type": "code",
   "execution_count": 1,
   "metadata": {},
   "outputs": [],
   "source": [
    "# importing numpy \n",
    "import numpy as np"
   ]
  },
  {
   "cell_type": "markdown",
   "metadata": {},
   "source": [
    "## Checking Array Data Type\n",
    "- We can check array data type using the `.dtype` property of the array object. "
   ]
  },
  {
   "cell_type": "code",
   "execution_count": 2,
   "metadata": {},
   "outputs": [
    {
     "name": "stdout",
     "output_type": "stream",
     "text": [
      "data type of an_array is int32\n",
      "data type of another_array is <U5\n"
     ]
    }
   ],
   "source": [
    "an_array = np.array([1,2,3,4])\n",
    "another_array = np.array(['one', 'two', 'three', 'four'])\n",
    "\n",
    "print(f'data type of an_array is {an_array.dtype}')\n",
    "print(f'data type of another_array is {another_array.dtype}')"
   ]
  },
  {
   "cell_type": "markdown",
   "metadata": {},
   "source": [
    "- The data type of first array's elements is `int32`. \n",
    "- The data type of the second array's elements is `<U5` which represents string data type. "
   ]
  },
  {
   "cell_type": "markdown",
   "metadata": {},
   "source": [
    "## Numpy Arrays Can Only Have a Single Data Type\n",
    "- It is worth mentioning here that if all the elements are integers but a single element is a float, the data type of all the elements will be converted to float because numpy arrays cannot hold multiple data types, it will hold only a single one. In the same way if one of the element is string, all the elements will be converted into strings, even if they were integers or floats originally. Lets have an example:"
   ]
  },
  {
   "cell_type": "code",
   "execution_count": 3,
   "metadata": {},
   "outputs": [
    {
     "name": "stdout",
     "output_type": "stream",
     "text": [
      "The data type of 'a' is : float64\n",
      "The data type of 'b' is <U32\n"
     ]
    }
   ],
   "source": [
    "a = np.array([1, 2, 3, 4, 4.1])\n",
    "print(f\"The data type of 'a' is : {a.dtype}\")\n",
    "\n",
    "b = np.array([5.0, 6.0, 7.0, 'eight'])\n",
    "print(f\"The data type of 'b' is {b.dtype}\")"
   ]
  },
  {
   "cell_type": "markdown",
   "metadata": {},
   "source": [
    "## Defining an Array with a Specific Data Type\n",
    "- Array can be defined by explicating mentioning their data type. The resulting array will have our requested datatype, regardless of elements's original data type. "
   ]
  },
  {
   "cell_type": "code",
   "execution_count": 4,
   "metadata": {},
   "outputs": [
    {
     "name": "stdout",
     "output_type": "stream",
     "text": [
      "The data type of array c's elements is : int8\n",
      "Even if the elements were originally floats.\n",
      "Each of the element is int8 such as c[2] > int8\n"
     ]
    }
   ],
   "source": [
    "c = np.array([5.0, 6.1, 7.2, 8.3], dtype = np.int8)\n",
    "print(f\"The data type of array c's elements is : {c.dtype}\\nEven if the elements were originally floats.\")\n",
    "print(f\"Each of the element is int8 such as c[2] > {c[2].dtype}\")"
   ]
  },
  {
   "cell_type": "markdown",
   "metadata": {},
   "source": [
    "## Chaning/Converting Array Data Types\n",
    "- Arrays can be converted to other data types using the `.astype()` method of the array object. Given that the array must be compatible with the requested data type. \n",
    "- This method does not converts the original array, rather, it returns a converted array that we need to catch and save into a new variable to make use of it. "
   ]
  },
  {
   "cell_type": "code",
   "execution_count": 8,
   "metadata": {},
   "outputs": [
    {
     "name": "stdout",
     "output_type": "stream",
     "text": [
      "The original data type of array 'c' was int8\n",
      "The new data type of array 'c' is float32\n"
     ]
    }
   ],
   "source": [
    "print(f\"The original data type of array 'c' was {c.dtype}\")\n",
    "\n",
    "\n",
    "# converting it to float\n",
    "c_converted = c.astype(np.float32)\n",
    "\n",
    "print(f\"The new data type of array 'c' is {c_converted.dtype}\")"
   ]
  }
 ],
 "metadata": {
  "kernelspec": {
   "display_name": "base",
   "language": "python",
   "name": "python3"
  },
  "language_info": {
   "codemirror_mode": {
    "name": "ipython",
    "version": 3
   },
   "file_extension": ".py",
   "mimetype": "text/x-python",
   "name": "python",
   "nbconvert_exporter": "python",
   "pygments_lexer": "ipython3",
   "version": "3.11.5"
  }
 },
 "nbformat": 4,
 "nbformat_minor": 2
}
