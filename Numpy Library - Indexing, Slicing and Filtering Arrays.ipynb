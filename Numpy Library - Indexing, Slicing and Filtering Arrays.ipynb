{
 "cells": [
  {
   "cell_type": "markdown",
   "metadata": {},
   "source": [
    "<h1 align = center>Numpy Library - Indexing, Slicing and Filtering Arrays</h1>"
   ]
  },
  {
   "cell_type": "markdown",
   "metadata": {},
   "source": [
    "**Table of contents**<a id='toc0_'></a>    \n",
    "- [Indexing Array Elements](#toc1_1_)    \n",
    "    - [Indexing 1D Arrays](#toc1_1_1_)    \n",
    "    - [Indexing 2D-Arrays](#toc1_1_2_)    \n",
    "      - [Accessing rows](#toc1_1_2_1_)    \n",
    "      - [Accessing Multiple Rows at a Time](#toc1_1_2_2_)    \n",
    "      - [Accessing Columns](#toc1_1_2_3_)    \n",
    "      - [Accessing a Particular Set of Elements from ND-Arrays](#toc1_1_2_4_)    \n",
    "    - [Accessing Elements in a 3D array](#toc1_1_3_)    \n",
    "      - [Accessing a Complete Inner Array](#toc1_1_3_1_)    \n",
    "      - [Accessing a Range of Complete Inner Arrays](#toc1_1_3_2_)    \n",
    "      - [Accessing a Single Row from a Single Inner List](#toc1_1_3_3_)    \n",
    "      - [Accessing a Column](#toc1_1_3_4_)    \n",
    "      - [Accessing a Single Element](#toc1_1_3_5_)    \n",
    "  - [Filtering Arrays](#toc1_2_)    \n",
    "    - [Masking Method](#toc1_2_1_)    \n",
    "      - [Basic Filtering](#toc1_2_1_1_)    \n",
    "      - [Compound Conditions](#toc1_2_1_2_)    \n",
    "      - [Logical Operations](#toc1_2_1_3_)    \n",
    "    - [The `np.where()` Method](#toc1_2_2_)    \n",
    "      - [Basic `np.where()` Usage](#toc1_2_2_1_)    \n",
    "      - [Compound Conditions with `np.where()`](#toc1_2_2_2_)    \n",
    "      - [Logical Operations with `np.where()`](#toc1_2_2_3_)    \n",
    "    - [Inverting Filtering Masks](#toc1_2_3_)    \n",
    "    - [Filtering with Custom Functions](#toc1_2_4_)    \n",
    "    - [Filtering Based on Row or Column Properties](#toc1_2_5_)    \n",
    "\n",
    "<!-- vscode-jupyter-toc-config\n",
    "\tnumbering=false\n",
    "\tanchor=true\n",
    "\tflat=false\n",
    "\tminLevel=1\n",
    "\tmaxLevel=6\n",
    "\t/vscode-jupyter-toc-config -->\n",
    "<!-- THIS CELL WILL BE REPLACED ON TOC UPDATE. DO NOT WRITE YOUR TEXT IN THIS CELL -->"
   ]
  },
  {
   "cell_type": "markdown",
   "metadata": {},
   "source": [
    "## <a id='toc1_1_'></a>[Indexing Array Elements](#toc0_)"
   ]
  },
  {
   "cell_type": "markdown",
   "metadata": {},
   "source": [
    "### <a id='toc1_1_1_'></a>[Indexing 1D Arrays](#toc0_)"
   ]
  },
  {
   "cell_type": "code",
   "execution_count": 1,
   "metadata": {},
   "outputs": [],
   "source": [
    "import numpy as np"
   ]
  },
  {
   "cell_type": "code",
   "execution_count": 2,
   "metadata": {},
   "outputs": [
    {
     "name": "stdout",
     "output_type": "stream",
     "text": [
      "second element : 2\n",
      "fifth element : 5\n",
      "first element from the last : 5\n",
      "third element from the last : 3\n"
     ]
    }
   ],
   "source": [
    "an_array = np.array([1,2,3,4,5])\n",
    "second_element = an_array[1]\n",
    "fifth_element = an_array[4]\n",
    "first_element_from_last = an_array[-1]\n",
    "third_element_from_last = an_array[-3]\n",
    "\n",
    "\n",
    "print(f'second element : {second_element}')\n",
    "print(f'fifth element : {fifth_element}')\n",
    "print(f'first element from the last : {first_element_from_last}')\n",
    "print(f'third element from the last : {third_element_from_last}')"
   ]
  },
  {
   "cell_type": "markdown",
   "metadata": {},
   "source": [
    "### <a id='toc1_1_2_'></a>[Indexing 2D-Arrays](#toc0_)"
   ]
  },
  {
   "cell_type": "code",
   "execution_count": 3,
   "metadata": {},
   "outputs": [
    {
     "data": {
      "text/plain": [
       "(3, 5)"
      ]
     },
     "execution_count": 3,
     "metadata": {},
     "output_type": "execute_result"
    }
   ],
   "source": [
    "# defining a 2D array\n",
    "b_array = np.array([\n",
    "    [1,2,3,4,5],\n",
    "    [6,7,8,9,10],\n",
    "    [11,12,13,14,15]\n",
    "])\n",
    "\n",
    "b_array.shape"
   ]
  },
  {
   "cell_type": "markdown",
   "metadata": {},
   "source": [
    "#### <a id='toc1_1_2_1_'></a>[Accessing rows](#toc0_)"
   ]
  },
  {
   "cell_type": "code",
   "execution_count": 4,
   "metadata": {},
   "outputs": [
    {
     "name": "stdout",
     "output_type": "stream",
     "text": [
      "first row : [1 2 3 4 5]\n",
      "second row : [ 6  7  8  9 10]\n"
     ]
    }
   ],
   "source": [
    "print(f'first row : {   b_array[0]  }')\n",
    "print(f'second row : {  b_array[1]  }')"
   ]
  },
  {
   "cell_type": "markdown",
   "metadata": {},
   "source": [
    "#### <a id='toc1_1_2_2_'></a>[Accessing Multiple Rows at a Time](#toc0_)\n",
    "- Multiple row are accessed using `:`. A colon indicates a range of rows (or columns for that matter).\n",
    "- __Syntax__\n",
    "  - `our_array[starting_index : ending_index]`\n",
    "  - Here starting index is included while selecting rows/columns, but the ending index is not included. That means, if we write 10 in place of ending index, the row at index 10 will not be included, instead, rows till index 9 will be included. "
   ]
  },
  {
   "cell_type": "code",
   "execution_count": 5,
   "metadata": {},
   "outputs": [
    {
     "name": "stdout",
     "output_type": "stream",
     "text": [
      "first two rows : \n",
      "[[ 1  2  3  4  5]\n",
      " [ 6  7  8  9 10]]\n"
     ]
    }
   ],
   "source": [
    "# this will select rows at index 0 and 1, where index 2 will not be included. \n",
    "print(f'first two rows : \\n{b_array[0:2]}') "
   ]
  },
  {
   "cell_type": "markdown",
   "metadata": {},
   "source": [
    "- A simple colon `:` without any starting or ending index will select all the rows"
   ]
  },
  {
   "cell_type": "code",
   "execution_count": 6,
   "metadata": {},
   "outputs": [
    {
     "name": "stdout",
     "output_type": "stream",
     "text": [
      "all the rows selected with colon `:` \n",
      "[[ 1  2  3  4  5]\n",
      " [ 6  7  8  9 10]\n",
      " [11 12 13 14 15]]\n"
     ]
    }
   ],
   "source": [
    "# selecting all the rows\n",
    "print(f\"all the rows selected with colon `:` \\n{    b_array[ : ]}\")"
   ]
  },
  {
   "cell_type": "markdown",
   "metadata": {},
   "source": [
    "#### <a id='toc1_1_2_3_'></a>[Accessing Columns](#toc0_)\n",
    "- The `:` in place of row index indicates that we want to select all the rows and while selecting a column, we do need all the rows as how can we get a complete column if any row is missing? That is why we need all the rows, hence we use `:` for the said purpose. \n",
    "- The column index is mention after the row index, where both row and column indexes are separated using a comma `,`. \n",
    "- __Syntax__:\n",
    "  - array_name[row_indexes , column indexes]\n",
    "  - Using columns `:` in place of both, rows and columns will fetch all the rows and all the columns."
   ]
  },
  {
   "cell_type": "code",
   "execution_count": 7,
   "metadata": {},
   "outputs": [
    {
     "name": "stdout",
     "output_type": "stream",
     "text": [
      "second column : [ 2  7 12]\n",
      "fourth column : [ 4  9 14]\n",
      "last column : [ 5 10 15]\n"
     ]
    }
   ],
   "source": [
    "print(f'second column : {    b_array[:,1]   }')\n",
    "print(f'fourth column : {   b_array[:,3]    }')\n",
    "print(f'last column : {     b_array[:,-1]   }')"
   ]
  },
  {
   "cell_type": "code",
   "execution_count": 8,
   "metadata": {},
   "outputs": [
    {
     "data": {
      "text/plain": [
       "array([[ 1,  2,  3,  4,  5],\n",
       "       [ 6,  7,  8,  9, 10],\n",
       "       [11, 12, 13, 14, 15]])"
      ]
     },
     "execution_count": 8,
     "metadata": {},
     "output_type": "execute_result"
    }
   ],
   "source": [
    "b_array[: , :]"
   ]
  },
  {
   "cell_type": "markdown",
   "metadata": {},
   "source": [
    "#### <a id='toc1_1_2_4_'></a>[Accessing a Particular Set of Elements from ND-Arrays](#toc0_)"
   ]
  },
  {
   "cell_type": "markdown",
   "metadata": {},
   "source": [
    "- 4 elements from top left"
   ]
  },
  {
   "cell_type": "code",
   "execution_count": 9,
   "metadata": {},
   "outputs": [
    {
     "data": {
      "text/plain": [
       "array([[1, 2],\n",
       "       [6, 7]])"
      ]
     },
     "execution_count": 9,
     "metadata": {},
     "output_type": "execute_result"
    }
   ],
   "source": [
    "b_array[0:2, 0:2]"
   ]
  },
  {
   "cell_type": "markdown",
   "metadata": {},
   "source": [
    "- Accessing 4th and 5th elements of the second and third row respectively. "
   ]
  },
  {
   "cell_type": "code",
   "execution_count": 10,
   "metadata": {},
   "outputs": [
    {
     "data": {
      "text/plain": [
       "array([[ 8,  9],\n",
       "       [13, 14]])"
      ]
     },
     "execution_count": 10,
     "metadata": {},
     "output_type": "execute_result"
    }
   ],
   "source": [
    "b_array[1:3,2:4]"
   ]
  },
  {
   "cell_type": "markdown",
   "metadata": {},
   "source": [
    "### <a id='toc1_1_3_'></a>[Accessing Elements in a 3D array](#toc0_)"
   ]
  },
  {
   "cell_type": "code",
   "execution_count": 11,
   "metadata": {},
   "outputs": [
    {
     "name": "stdout",
     "output_type": "stream",
     "text": [
      "[[[ 1  2  3]\n",
      "  [ 4  5  6]]\n",
      "\n",
      " [[ 7  8  9]\n",
      "  [10 11 12]]\n",
      "\n",
      " [[13 14 15]\n",
      "  [16 17 18]]]\n",
      "array shape : (3, 2, 3)\n"
     ]
    }
   ],
   "source": [
    "c_array = np.array(\n",
    "    [\n",
    "\n",
    "        [\n",
    "            [1, 2, 3],\n",
    "            [4, 5, 6]\n",
    "        ],\n",
    "        [\n",
    "            [7, 8, 9],\n",
    "            [10, 11, 12]\n",
    "        ],\n",
    "        [\n",
    "            [13, 14, 15],\n",
    "            [16, 17, 18]\n",
    "        ]\n",
    "\n",
    "    ]\n",
    ")\n",
    "\n",
    "print(c_array)\n",
    "print(f\"array shape : {c_array.shape}\")"
   ]
  },
  {
   "cell_type": "markdown",
   "metadata": {},
   "source": [
    "#### <a id='toc1_1_3_1_'></a>[Accessing a Complete Inner Array](#toc0_)"
   ]
  },
  {
   "cell_type": "code",
   "execution_count": 12,
   "metadata": {},
   "outputs": [
    {
     "data": {
      "text/plain": [
       "array([[1, 2, 3],\n",
       "       [4, 5, 6]])"
      ]
     },
     "execution_count": 12,
     "metadata": {},
     "output_type": "execute_result"
    }
   ],
   "source": [
    "c_array[0]"
   ]
  },
  {
   "cell_type": "markdown",
   "metadata": {},
   "source": [
    "#### <a id='toc1_1_3_2_'></a>[Accessing a Range of Complete Inner Arrays](#toc0_)"
   ]
  },
  {
   "cell_type": "code",
   "execution_count": 13,
   "metadata": {},
   "outputs": [
    {
     "data": {
      "text/plain": [
       "array([[[ 7,  8,  9],\n",
       "        [10, 11, 12]],\n",
       "\n",
       "       [[13, 14, 15],\n",
       "        [16, 17, 18]]])"
      ]
     },
     "execution_count": 13,
     "metadata": {},
     "output_type": "execute_result"
    }
   ],
   "source": [
    "c_array[1:3] # last two inner arrays"
   ]
  },
  {
   "cell_type": "markdown",
   "metadata": {},
   "source": [
    "#### <a id='toc1_1_3_3_'></a>[Accessing a Single Row from a Single Inner List](#toc0_)"
   ]
  },
  {
   "cell_type": "code",
   "execution_count": 14,
   "metadata": {},
   "outputs": [
    {
     "data": {
      "text/plain": [
       "array([7, 8, 9])"
      ]
     },
     "execution_count": 14,
     "metadata": {},
     "output_type": "execute_result"
    }
   ],
   "source": [
    "'''\n",
    "1. first row of second inner array\n",
    "\n",
    "c_array[1 , 0]\n",
    "the 1 indicates which outer list to select, here we are selecting outer list at index 1\n",
    "the 0 indicates inside selected list at index 1, which inner list we want to access\n",
    "'''\n",
    "c_array[1 , 0]\n",
    "\n"
   ]
  },
  {
   "cell_type": "code",
   "execution_count": 15,
   "metadata": {},
   "outputs": [
    {
     "data": {
      "text/plain": [
       "array([16, 17, 18])"
      ]
     },
     "execution_count": 15,
     "metadata": {},
     "output_type": "execute_result"
    }
   ],
   "source": [
    "# second row of third inner array\n",
    "c_array[2 , 1]\n"
   ]
  },
  {
   "cell_type": "markdown",
   "metadata": {},
   "source": [
    "#### <a id='toc1_1_3_4_'></a>[Accessing a Column](#toc0_)\n",
    "- Accessing a column is tricky in a 3D array.\n",
    "- The first argument reflects which of the outer lists we want to select, the second argument reflects which rows of these lists we want to select and third index reflects which columns to select. "
   ]
  },
  {
   "cell_type": "code",
   "execution_count": 16,
   "metadata": {},
   "outputs": [
    {
     "data": {
      "text/plain": [
       "array([[ 2,  5],\n",
       "       [ 8, 11],\n",
       "       [14, 17]])"
      ]
     },
     "execution_count": 16,
     "metadata": {},
     "output_type": "execute_result"
    }
   ],
   "source": [
    "# 2nd columns of all the lists\n",
    "c_array[: , : , 1]"
   ]
  },
  {
   "cell_type": "code",
   "execution_count": 17,
   "metadata": {},
   "outputs": [
    {
     "data": {
      "text/plain": [
       "array([[ 1,  4],\n",
       "       [ 7, 10],\n",
       "       [13, 16]])"
      ]
     },
     "execution_count": 17,
     "metadata": {},
     "output_type": "execute_result"
    }
   ],
   "source": [
    "# 1st column of all the lists \n",
    "c_array[: , : , 0]"
   ]
  },
  {
   "cell_type": "markdown",
   "metadata": {},
   "source": [
    "#### <a id='toc1_1_3_5_'></a>[Accessing a Single Element](#toc0_)\n",
    "- Selecting 14 from the third inner list."
   ]
  },
  {
   "cell_type": "code",
   "execution_count": 18,
   "metadata": {},
   "outputs": [
    {
     "data": {
      "text/plain": [
       "14"
      ]
     },
     "execution_count": 18,
     "metadata": {},
     "output_type": "execute_result"
    }
   ],
   "source": [
    "c_array[2 , 0 , 1]"
   ]
  },
  {
   "cell_type": "markdown",
   "metadata": {},
   "source": [
    "## <a id='toc1_2_'></a>[Filtering Arrays](#toc0_)\n",
    "- There are two main methods to filter numpy arrays:\n",
    "    1. Masking Method\n",
    "    2. `np.where()` Method"
   ]
  },
  {
   "cell_type": "markdown",
   "metadata": {},
   "source": [
    "### <a id='toc1_2_1_'></a>[Masking Method](#toc0_)\n",
    "- When we apply conditional operators to a NumPy array, NumPy does not return a modified array with the applied conditions. Instead, it checks each array element against the specified conditions and returns `True` if an element meets the conditions or `False` if it does not. As a result, we get a Boolean NumPy array (of the same shape as the original array) where each element indicates whether the condition was met. This returned array is called a mask.\n",
    "- This mask can then be used within square brackets of our array in place of row and column indices to select only those elements from our array that correspond to `True` values in the mask array."
   ]
  },
  {
   "cell_type": "markdown",
   "metadata": {},
   "source": [
    "#### <a id='toc1_2_1_1_'></a>[Basic Filtering](#toc0_)"
   ]
  },
  {
   "cell_type": "code",
   "execution_count": 19,
   "metadata": {},
   "outputs": [
    {
     "name": "stdout",
     "output_type": "stream",
     "text": [
      "The original array : [10 11 12 13 14 15 16 17 18 19 20 21 22 23 24 25 26 27 28 29 30]\n"
     ]
    }
   ],
   "source": [
    "my_array = np.arange(10,31)\n",
    "print(f\"The original array : {my_array}\")"
   ]
  },
  {
   "cell_type": "markdown",
   "metadata": {},
   "source": [
    "- Lets create a mask that checks our array against the condition `element > 20` and returns True/False accordingly for each element."
   ]
  },
  {
   "cell_type": "code",
   "execution_count": 20,
   "metadata": {},
   "outputs": [
    {
     "name": "stdout",
     "output_type": "stream",
     "text": [
      "The masked returned : [False False False False False False False False False False False  True\n",
      "  True  True  True  True  True  True  True  True  True]\n"
     ]
    }
   ],
   "source": [
    "mask = my_array > 20\n",
    "print(f\"The masked returned : {mask}\")"
   ]
  },
  {
   "cell_type": "markdown",
   "metadata": {},
   "source": [
    "- Now we will pass this mask to our array in place of element indices to filter our array."
   ]
  },
  {
   "cell_type": "code",
   "execution_count": 21,
   "metadata": {},
   "outputs": [
    {
     "data": {
      "text/plain": [
       "array([21, 22, 23, 24, 25, 26, 27, 28, 29, 30])"
      ]
     },
     "execution_count": 21,
     "metadata": {},
     "output_type": "execute_result"
    }
   ],
   "source": [
    "my_array[mask]"
   ]
  },
  {
   "cell_type": "markdown",
   "metadata": {},
   "source": [
    "- We can see, only element greater than 20 are turned. The array is filtered. \n",
    "\n",
    "Lets have another example:\n",
    "- Given the following 2D array, filter out all elements that are less than 50."
   ]
  },
  {
   "cell_type": "code",
   "execution_count": 22,
   "metadata": {},
   "outputs": [
    {
     "data": {
      "text/plain": [
       "array([34, 49, 22, 11])"
      ]
     },
     "execution_count": 22,
     "metadata": {},
     "output_type": "execute_result"
    }
   ],
   "source": [
    "our_array = np.array([[34, 55, 72],\n",
    "                     [49, 50, 88],\n",
    "                     [65, 22, 11]])\n",
    "\n",
    "mask = our_array < 50\n",
    "\n",
    "our_array[mask]"
   ]
  },
  {
   "cell_type": "code",
   "execution_count": 23,
   "metadata": {},
   "outputs": [
    {
     "name": "stdout",
     "output_type": "stream",
     "text": [
      "Of course we can sort them : [11, 22, 34, 49]\n"
     ]
    }
   ],
   "source": [
    "print(f\"Of course we can sort them : {sorted(our_array[mask])}\")"
   ]
  },
  {
   "cell_type": "markdown",
   "metadata": {},
   "source": [
    "#### <a id='toc1_2_1_2_'></a>[Compound Conditions](#toc0_)\n",
    "- It is possible to have multiple conditions.\n",
    "- Each condition is separated using python conditional operators. \n",
    "\n",
    "Lets create a 1D array with values from 1 to 20. Filter out elements that are either less than 5 or greater than 15."
   ]
  },
  {
   "cell_type": "code",
   "execution_count": 24,
   "metadata": {},
   "outputs": [
    {
     "data": {
      "text/plain": [
       "array([ 1,  2,  3,  4,  5,  6,  7,  8,  9, 10, 11, 12, 13, 14, 15, 16, 17,\n",
       "       18, 19, 20])"
      ]
     },
     "execution_count": 24,
     "metadata": {},
     "output_type": "execute_result"
    }
   ],
   "source": [
    "our_array = np.arange(1,21)\n",
    "our_array"
   ]
  },
  {
   "cell_type": "code",
   "execution_count": 25,
   "metadata": {},
   "outputs": [
    {
     "data": {
      "text/plain": [
       "array([ 1,  2,  3,  4, 16, 17, 18, 19, 20])"
      ]
     },
     "execution_count": 25,
     "metadata": {},
     "output_type": "execute_result"
    }
   ],
   "source": [
    "mask = (our_array < 5) | (our_array > 15)\n",
    "\n",
    "our_array[mask]"
   ]
  },
  {
   "cell_type": "markdown",
   "metadata": {},
   "source": [
    "Lets filter out all elements that are greater than or equal to 30 and less than or equal to 60."
   ]
  },
  {
   "cell_type": "code",
   "execution_count": 26,
   "metadata": {},
   "outputs": [
    {
     "data": {
      "text/plain": [
       "array([[25, 40, 35],\n",
       "       [50, 28, 65],\n",
       "       [20, 45, 58]])"
      ]
     },
     "execution_count": 26,
     "metadata": {},
     "output_type": "execute_result"
    }
   ],
   "source": [
    "our_array = np.array([[25, 40, 35],\n",
    "                      [50, 28, 65],\n",
    "                      [20, 45, 58]])\n",
    "our_array"
   ]
  },
  {
   "cell_type": "code",
   "execution_count": 27,
   "metadata": {},
   "outputs": [
    {
     "data": {
      "text/plain": [
       "array([40, 35, 50, 45, 58])"
      ]
     },
     "execution_count": 27,
     "metadata": {},
     "output_type": "execute_result"
    }
   ],
   "source": [
    "mask = (our_array >= 30) & (our_array <= 60)\n",
    "\n",
    "our_array[mask]"
   ]
  },
  {
   "cell_type": "markdown",
   "metadata": {},
   "source": [
    "#### <a id='toc1_2_1_3_'></a>[Logical Operations](#toc0_)\n",
    "- We can also make use of numpy's logical functions to apply multiple conditions for array filtration \n",
    "\n",
    "Lets create a 1D array of integers from 0 to 50. Filter out the elements that are divisible by both 3 and 5."
   ]
  },
  {
   "cell_type": "code",
   "execution_count": 28,
   "metadata": {},
   "outputs": [
    {
     "data": {
      "text/plain": [
       "array([ 0,  1,  2,  3,  4,  5,  6,  7,  8,  9, 10, 11, 12, 13, 14, 15, 16,\n",
       "       17, 18, 19, 20, 21, 22, 23, 24, 25, 26, 27, 28, 29, 30, 31, 32, 33,\n",
       "       34, 35, 36, 37, 38, 39, 40, 41, 42, 43, 44, 45, 46, 47, 48, 49, 50])"
      ]
     },
     "execution_count": 28,
     "metadata": {},
     "output_type": "execute_result"
    }
   ],
   "source": [
    "our_array = np.arange(0 , 51)\n",
    "our_array"
   ]
  },
  {
   "cell_type": "code",
   "execution_count": 29,
   "metadata": {},
   "outputs": [
    {
     "data": {
      "text/plain": [
       "array([ 0, 15, 30, 45])"
      ]
     },
     "execution_count": 29,
     "metadata": {},
     "output_type": "execute_result"
    }
   ],
   "source": [
    "mask = np.logical_and(our_array % 3 == 0, our_array % 5 == 0)  \n",
    "\n",
    "our_array[mask]"
   ]
  },
  {
   "cell_type": "markdown",
   "metadata": {},
   "source": [
    "Let us filter out all elements that are either even or greater than 70."
   ]
  },
  {
   "cell_type": "code",
   "execution_count": 30,
   "metadata": {},
   "outputs": [
    {
     "data": {
      "text/plain": [
       "array([[20, 45, 64, 81],\n",
       "       [33, 72, 19, 88],\n",
       "       [90, 34, 55, 77]])"
      ]
     },
     "execution_count": 30,
     "metadata": {},
     "output_type": "execute_result"
    }
   ],
   "source": [
    "our_array = np.array([[20, 45, 64, 81],\n",
    "                      [33, 72, 19, 88],\n",
    "                      [90, 34, 55, 77]])\n",
    "our_array"
   ]
  },
  {
   "cell_type": "code",
   "execution_count": 31,
   "metadata": {},
   "outputs": [
    {
     "data": {
      "text/plain": [
       "array([20, 64, 81, 72, 88, 90, 34, 77])"
      ]
     },
     "execution_count": 31,
     "metadata": {},
     "output_type": "execute_result"
    }
   ],
   "source": [
    "mask = np.logical_or(our_array % 2 == 0, our_array > 70)\n",
    "\n",
    "our_array[mask]"
   ]
  },
  {
   "cell_type": "markdown",
   "metadata": {},
   "source": [
    "### <a id='toc1_2_2_'></a>[The `np.where()` Method](#toc0_)\n",
    "- Just like the masking method, we can also filter arrays using the `np.where()` method. \n",
    "- Unlike masking method, np.where() does not return a boolean array, rather it returns a tuple consisting of indices of all the elements that meets the provided conditions. \n",
    "- This is more powerful than masking method, because, in addition to finding desired values according to our conditions, it can also replace those values with new one. \n",
    "- __Syntax__:\n",
    "  - `np.where(conditions_to_meet, do_if_conditions_met , do_if_conditions_did_not_meet)`\n",
    "  - First argument: set of conditions to check against each element of the array just like the masking method. \n",
    "  - Second argument: array of values to replace all the values that meet our provided set of conditions. \n",
    "  - Third argument: array of values to replace all the values that do not meet our provided set of conditions. This could be the original array, in that case, it will mean that the values will be replaced with the original array values if the conditions did not meet, that will eventually mean to leave the values as it is if the conditions not met. \n",
    "\n",
    "              "
   ]
  },
  {
   "cell_type": "markdown",
   "metadata": {},
   "source": [
    "#### <a id='toc1_2_2_1_'></a>[Basic `np.where()` Usage](#toc0_)"
   ]
  },
  {
   "cell_type": "markdown",
   "metadata": {},
   "source": [
    "- Lets create an array"
   ]
  },
  {
   "cell_type": "code",
   "execution_count": 32,
   "metadata": {},
   "outputs": [
    {
     "name": "stdout",
     "output_type": "stream",
     "text": [
      "[[34 55 72]\n",
      " [49 50 88]\n",
      " [65 22 11]]\n"
     ]
    }
   ],
   "source": [
    "our_array = np.array([[34, 55, 72],\n",
    "                     [49, 50, 88],\n",
    "                     [65, 22, 11]])\n",
    "\n",
    "print(our_array)"
   ]
  },
  {
   "cell_type": "markdown",
   "metadata": {},
   "source": [
    "- Applying a condition using `np.where` and getting the indices of values. "
   ]
  },
  {
   "cell_type": "code",
   "execution_count": 33,
   "metadata": {},
   "outputs": [
    {
     "name": "stdout",
     "output_type": "stream",
     "text": [
      "returned indices of elements that meet our condition : \n",
      "(array([0, 0, 0, 1, 1, 1, 2], dtype=int64), array([0, 1, 2, 0, 1, 2, 0], dtype=int64))))\n"
     ]
    }
   ],
   "source": [
    "condition = our_array > 25\n",
    "\n",
    "indices = np.where(condition)\n",
    "\n",
    "print(f\"returned indices of elements that meet our condition : \\n{indices}))\")"
   ]
  },
  {
   "cell_type": "markdown",
   "metadata": {},
   "source": [
    "- Getting the filtered out array using the indices"
   ]
  },
  {
   "cell_type": "code",
   "execution_count": 34,
   "metadata": {},
   "outputs": [
    {
     "name": "stdout",
     "output_type": "stream",
     "text": [
      "[34 55 72 49 50 88 65]\n",
      "sorted to check [34, 49, 50, 55, 65, 72, 88]\n"
     ]
    }
   ],
   "source": [
    "x = our_array[indices]\n",
    "print(x)\n",
    "print(f'sorted to check {sorted(our_array[indices])}')"
   ]
  },
  {
   "cell_type": "markdown",
   "metadata": {},
   "source": [
    "- Lets create a 1D array with values from 10 to 30 and use `np.where()` to replace elements that are greater than 20 with -1."
   ]
  },
  {
   "cell_type": "code",
   "execution_count": 35,
   "metadata": {},
   "outputs": [
    {
     "name": "stdout",
     "output_type": "stream",
     "text": [
      "original array \n",
      "[10 11 12 13 14 15 16 17 18 19 20 21 22 23 24 25 26 27 28 29 30]\n"
     ]
    }
   ],
   "source": [
    "our_array = np.arange(10, 31)\n",
    "print(f\"original array \\n{our_array}\")"
   ]
  },
  {
   "cell_type": "code",
   "execution_count": 36,
   "metadata": {},
   "outputs": [
    {
     "name": "stdout",
     "output_type": "stream",
     "text": [
      "[10 11 12 13 14 15 16 17 18 19 20 -1 -1 -1 -1 -1 -1 -1 -1 -1 -1]\n"
     ]
    }
   ],
   "source": [
    "condition = our_array > 20\n",
    "replace_if_condition_met = -1\n",
    "replace_if_condition_did_not_meet = our_array # replace with original array / leave the values as it is\n",
    "\n",
    "filtered_array = np.where(condition, replace_if_condition_met, replace_if_condition_did_not_meet)\n",
    "print(filtered_array)"
   ]
  },
  {
   "cell_type": "markdown",
   "metadata": {},
   "source": [
    "- Lets take another example: Given a 2D array, use np.where() to replace all elements that are less than 50 with 0."
   ]
  },
  {
   "cell_type": "code",
   "execution_count": 37,
   "metadata": {},
   "outputs": [
    {
     "name": "stdout",
     "output_type": "stream",
     "text": [
      "[[34 55 72]\n",
      " [49 50 88]\n",
      " [65 22 11]]\n"
     ]
    }
   ],
   "source": [
    "our_array = np.array([[34, 55, 72],\n",
    "                      [49, 50, 88],\n",
    "                      [65, 22, 11]])\n",
    "\n",
    "print(our_array)"
   ]
  },
  {
   "cell_type": "code",
   "execution_count": 38,
   "metadata": {},
   "outputs": [
    {
     "name": "stdout",
     "output_type": "stream",
     "text": [
      "[[ 0 55 72]\n",
      " [ 0 50 88]\n",
      " [65  0  0]]\n"
     ]
    }
   ],
   "source": [
    "new_array = np.where(our_array < 50, 0, our_array)\n",
    "print(new_array)"
   ]
  },
  {
   "cell_type": "markdown",
   "metadata": {},
   "source": [
    "#### <a id='toc1_2_2_2_'></a>[Compound Conditions with `np.where()`](#toc0_)"
   ]
  },
  {
   "cell_type": "markdown",
   "metadata": {},
   "source": [
    "- Create a 1D array of integers from 0 to 50. Use np.where() to replace elements that are divisible by both 3 and 5 with 1000"
   ]
  },
  {
   "cell_type": "code",
   "execution_count": 39,
   "metadata": {},
   "outputs": [
    {
     "name": "stdout",
     "output_type": "stream",
     "text": [
      "[ 0  1  2  3  4  5  6  7  8  9 10 11 12 13 14 15 16 17 18 19 20 21 22 23\n",
      " 24 25 26 27 28 29 30 31 32 33 34 35 36 37 38 39 40 41 42 43 44 45 46 47\n",
      " 48 49 50]\n"
     ]
    }
   ],
   "source": [
    "our_array = np.arange(0,51)\n",
    "print(our_array)"
   ]
  },
  {
   "cell_type": "code",
   "execution_count": 40,
   "metadata": {},
   "outputs": [
    {
     "name": "stdout",
     "output_type": "stream",
     "text": [
      "[1000    1    2    3    4    5    6    7    8    9   10   11   12   13\n",
      "   14 1000   16   17   18   19   20   21   22   23   24   25   26   27\n",
      "   28   29 1000   31   32   33   34   35   36   37   38   39   40   41\n",
      "   42   43   44 1000   46   47   48   49   50]\n"
     ]
    }
   ],
   "source": [
    "new_array = np.where((our_array % 3 == 0) & (our_array % 5 == 0), 1000, our_array)\n",
    "print(new_array)"
   ]
  },
  {
   "cell_type": "markdown",
   "metadata": {},
   "source": [
    "- Using a 2D array, use np.where() to replace all elements that are either even or greater than 70 with -1"
   ]
  },
  {
   "cell_type": "code",
   "execution_count": 41,
   "metadata": {},
   "outputs": [
    {
     "name": "stdout",
     "output_type": "stream",
     "text": [
      "[[20 45 64 81]\n",
      " [33 72 19 88]\n",
      " [90 34 55 77]]\n"
     ]
    }
   ],
   "source": [
    "our_array = np.array([[20, 45, 64, 81],\n",
    "                      [33, 72, 19, 88],\n",
    "                      [90, 34, 55, 77]])\n",
    "print(our_array)"
   ]
  },
  {
   "cell_type": "code",
   "execution_count": 42,
   "metadata": {},
   "outputs": [
    {
     "name": "stdout",
     "output_type": "stream",
     "text": [
      "[[-1 45 -1 -1]\n",
      " [33 -1 19 -1]\n",
      " [-1 -1 55 -1]]\n"
     ]
    }
   ],
   "source": [
    "new_array = np.where((our_array % 2 == 0) | (our_array > 70), -1, our_array)\n",
    "print(new_array)"
   ]
  },
  {
   "cell_type": "markdown",
   "metadata": {},
   "source": [
    "#### <a id='toc1_2_2_3_'></a>[Logical Operations with `np.where()`](#toc0_)"
   ]
  },
  {
   "cell_type": "markdown",
   "metadata": {},
   "source": [
    "- Create a 1D array with values from 1 to 20. Use np.where() to replace elements that are either less than 5 or greater than 15 with 0."
   ]
  },
  {
   "cell_type": "code",
   "execution_count": 43,
   "metadata": {},
   "outputs": [
    {
     "name": "stdout",
     "output_type": "stream",
     "text": [
      "[ 1  2  3  4  5  6  7  8  9 10 11 12 13 14 15 16 17 18 19 20]\n"
     ]
    }
   ],
   "source": [
    "our_array = np.arange(1,21)\n",
    "print(our_array)"
   ]
  },
  {
   "cell_type": "code",
   "execution_count": 44,
   "metadata": {},
   "outputs": [
    {
     "name": "stdout",
     "output_type": "stream",
     "text": [
      "[ 0  0  0  0  5  6  7  8  9 10 11 12 13 14 15  0  0  0  0  0]\n"
     ]
    }
   ],
   "source": [
    "new_array = np.where(np.logical_or(our_array < 5, our_array > 15), 0 , our_array)\n",
    "print(new_array)"
   ]
  },
  {
   "cell_type": "markdown",
   "metadata": {},
   "source": [
    "- Given a 2D array, use np.where() to replace all elements that are greater than or equal to 30 and less than or equal to 60 with 999."
   ]
  },
  {
   "cell_type": "code",
   "execution_count": 45,
   "metadata": {},
   "outputs": [
    {
     "name": "stdout",
     "output_type": "stream",
     "text": [
      "[[25 40 35]\n",
      " [50 28 65]\n",
      " [20 45 58]]\n"
     ]
    }
   ],
   "source": [
    "our_array = np.array([[25, 40, 35],\n",
    "                      [50, 28, 65],\n",
    "                      [20, 45, 58]])\n",
    "print(our_array)"
   ]
  },
  {
   "cell_type": "code",
   "execution_count": 46,
   "metadata": {},
   "outputs": [
    {
     "name": "stdout",
     "output_type": "stream",
     "text": [
      "[[ 25 999 999]\n",
      " [999  28  65]\n",
      " [ 20 999 999]]\n"
     ]
    }
   ],
   "source": [
    "new_array = np.where(np.logical_and(our_array >= 30, our_array <= 60), 999, our_array)\n",
    "print(new_array)"
   ]
  },
  {
   "cell_type": "markdown",
   "metadata": {},
   "source": [
    "### <a id='toc1_2_3_'></a>[Inverting Filtering Masks](#toc0_)\n",
    "With mask inverting, we can create a mask to filter out elements based on a condition, then invert the mask to filter out elements that do not meet the condition. For example:\n",
    "- Filter an array to exclude elements that are less than 20, then invert the mask to include only those elements."
   ]
  },
  {
   "cell_type": "code",
   "execution_count": 47,
   "metadata": {},
   "outputs": [
    {
     "name": "stdout",
     "output_type": "stream",
     "text": [
      "[ 1  4  7 10 13 16 19 22 25 28 31 34 37 40]\n"
     ]
    }
   ],
   "source": [
    "our_array = np.arange(1,41,3)\n",
    "print(our_array)"
   ]
  },
  {
   "cell_type": "code",
   "execution_count": 48,
   "metadata": {},
   "outputs": [
    {
     "name": "stdout",
     "output_type": "stream",
     "text": [
      "[22 25 28 31 34 37 40]\n"
     ]
    }
   ],
   "source": [
    "mask = our_array > 20 # excluded all element less than 20\n",
    "print(our_array[mask])"
   ]
  },
  {
   "cell_type": "code",
   "execution_count": 49,
   "metadata": {},
   "outputs": [
    {
     "name": "stdout",
     "output_type": "stream",
     "text": [
      "[ 1  4  7 10 13 16 19]\n"
     ]
    }
   ],
   "source": [
    "# inverted the mask with logical operator `~`\n",
    "print(our_array[~mask])"
   ]
  },
  {
   "cell_type": "markdown",
   "metadata": {},
   "source": [
    "### <a id='toc1_2_4_'></a>[Filtering with Custom Functions](#toc0_)\n",
    "We can also create a custom function that returns a Boolean value based on a condition, and use that function to filter an array.\n",
    "- For example: Write a function that checks if a number is prime and use it to filter an array to include only prime numbers."
   ]
  },
  {
   "cell_type": "code",
   "execution_count": 50,
   "metadata": {},
   "outputs": [
    {
     "name": "stdout",
     "output_type": "stream",
     "text": [
      "original array\n",
      "[ 1  5  9 13 17 21 25 29 33 37 41 45 49 53 57 61 65 69 73 77 81 85 89 93\n",
      " 97]\n",
      "<class 'bool'>\n"
     ]
    }
   ],
   "source": [
    "import math\n",
    "# defining an array\n",
    "our_array = np.arange(1, 100, 4)\n",
    "print(f\"original array\\n{our_array}\")\n",
    "\n",
    "# defining a custom function to check if a number is divisible by 5\n",
    "def divisible_by_five(number):\n",
    "    if number % 5 == 0:\n",
    "        return True\n",
    "    else:\n",
    "        return False\n",
    "\n",
    "# testing our function\n",
    "x = divisible_by_five(10)\n",
    "print(type(x))"
   ]
  },
  {
   "cell_type": "code",
   "execution_count": 51,
   "metadata": {},
   "outputs": [
    {
     "name": "stdout",
     "output_type": "stream",
     "text": [
      "[ 5 25 45 65 85]\n",
      "[ 5 25 45 65 85]\n"
     ]
    }
   ],
   "source": [
    "'''\n",
    "Filtering with custom function\n",
    "1- with masking method\n",
    "2- with np where\n",
    "'''\n",
    "mask = list(map(divisible_by_five, our_array))\n",
    "new_array = our_array[mask]\n",
    "print(new_array)\n",
    "\n",
    "v_func = np.vectorize(divisible_by_five) # because np.where will need a function that can check all array elements simultaneously\n",
    "indices = np.where(v_func(our_array))\n",
    "new_array = our_array[indices]\n",
    "print(new_array)\n"
   ]
  },
  {
   "cell_type": "markdown",
   "metadata": {},
   "source": [
    "### <a id='toc1_2_5_'></a>[Filtering Based on Row or Column Properties](#toc0_)\n",
    "We can filter rows or columns based on properties like sum, mean, or standard deviation.\n",
    "- For example: Filter out rows where the sum of the elements is greater than a certain value.\n"
   ]
  },
  {
   "cell_type": "code",
   "execution_count": 53,
   "metadata": {},
   "outputs": [
    {
     "name": "stdout",
     "output_type": "stream",
     "text": [
      "sum of each row : [100 143 123]\n"
     ]
    }
   ],
   "source": [
    "our_array = np.array([[25, 40, 35],\n",
    "                      [50, 28, 65],\n",
    "                      [20, 45, 58]])\n",
    "\n",
    "column_sums = np.sum(our_array, axis = 1)\n",
    "print(f\"sum of each row : {column_sums}\")"
   ]
  },
  {
   "cell_type": "code",
   "execution_count": 59,
   "metadata": {},
   "outputs": [
    {
     "name": "stdout",
     "output_type": "stream",
     "text": [
      "[False  True  True]\n",
      "\n",
      "[[50 28 65]\n",
      " [20 45 58]]\n"
     ]
    }
   ],
   "source": [
    "mask = np.sum(our_array, axis = 1) > 100\n",
    "print(mask, end=\"\\n\\n\")\n",
    "\n",
    "new_array = our_array[mask]\n",
    "print(new_array)"
   ]
  },
  {
   "cell_type": "code",
   "execution_count": 62,
   "metadata": {},
   "outputs": [
    {
     "name": "stdout",
     "output_type": "stream",
     "text": [
      "indices : [1 2]\n",
      "\n",
      "[[50 28 65]\n",
      " [20 45 58]]\n"
     ]
    }
   ],
   "source": [
    "indices = np.where(np.sum(our_array, axis = 1) > 100)\n",
    "print(f\"indices : {indices[0]}\", end= '\\n\\n')\n",
    "\n",
    "new_array = our_array[indices]\n",
    "print(new_array)"
   ]
  }
 ],
 "metadata": {
  "kernelspec": {
   "display_name": "base",
   "language": "python",
   "name": "python3"
  },
  "language_info": {
   "codemirror_mode": {
    "name": "ipython",
    "version": 3
   },
   "file_extension": ".py",
   "mimetype": "text/x-python",
   "name": "python",
   "nbconvert_exporter": "python",
   "pygments_lexer": "ipython3",
   "version": "3.11.5"
  }
 },
 "nbformat": 4,
 "nbformat_minor": 2
}
