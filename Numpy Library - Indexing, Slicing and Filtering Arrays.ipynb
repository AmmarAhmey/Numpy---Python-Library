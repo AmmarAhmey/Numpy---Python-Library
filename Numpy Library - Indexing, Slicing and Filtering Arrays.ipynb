{
 "cells": [
  {
   "cell_type": "markdown",
   "metadata": {},
   "source": [
    "<h1 align = center>Numpy Library - Indexing, Slicing and Filtering Arrays</h1>"
   ]
  },
  {
   "cell_type": "markdown",
   "metadata": {},
   "source": [
    "## Indexing Array Elements"
   ]
  },
  {
   "cell_type": "markdown",
   "metadata": {},
   "source": [
    "### Indexing 1D Arrays"
   ]
  },
  {
   "cell_type": "code",
   "execution_count": 2,
   "metadata": {},
   "outputs": [],
   "source": [
    "import numpy as np"
   ]
  },
  {
   "cell_type": "code",
   "execution_count": 3,
   "metadata": {},
   "outputs": [
    {
     "name": "stdout",
     "output_type": "stream",
     "text": [
      "second element : 2\n",
      "fifth element : 5\n",
      "first element from the last : 5\n",
      "third element from the last : 3\n"
     ]
    }
   ],
   "source": [
    "an_array = np.array([1,2,3,4,5])\n",
    "second_element = an_array[1]\n",
    "fifth_element = an_array[4]\n",
    "first_element_from_last = an_array[-1]\n",
    "third_element_from_last = an_array[-3]\n",
    "\n",
    "\n",
    "print(f'second element : {second_element}')\n",
    "print(f'fifth element : {fifth_element}')\n",
    "print(f'first element from the last : {first_element_from_last}')\n",
    "print(f'third element from the last : {third_element_from_last}')"
   ]
  },
  {
   "cell_type": "markdown",
   "metadata": {},
   "source": [
    "### Indexing ND-Arrays"
   ]
  },
  {
   "cell_type": "code",
   "execution_count": 4,
   "metadata": {},
   "outputs": [
    {
     "data": {
      "text/plain": [
       "(3, 5)"
      ]
     },
     "execution_count": 4,
     "metadata": {},
     "output_type": "execute_result"
    }
   ],
   "source": [
    "# defining a 2D array\n",
    "b_array = np.array([\n",
    "    [1,2,3,4,5],\n",
    "    [6,7,8,9,10],\n",
    "    [11,12,13,14,15]\n",
    "])\n",
    "\n",
    "b_array.shape"
   ]
  },
  {
   "cell_type": "markdown",
   "metadata": {},
   "source": [
    "#### Accessing rows"
   ]
  },
  {
   "cell_type": "code",
   "execution_count": 7,
   "metadata": {},
   "outputs": [
    {
     "name": "stdout",
     "output_type": "stream",
     "text": [
      "first row : [1 2 3 4 5]\n",
      "second row : [ 6  7  8  9 10]\n"
     ]
    }
   ],
   "source": [
    "print(f'first row : {   b_array[0]  }')\n",
    "print(f'second row : {  b_array[1]  }')"
   ]
  },
  {
   "cell_type": "markdown",
   "metadata": {},
   "source": [
    "#### Accessing Multiple Rows at a Time\n",
    "- Multiple row are accessed using `:`. A colon indicates a range of rows (or columns for that matter).\n",
    "- __Syntax__\n",
    "  - `our_array[starting_index : ending_index]`\n",
    "  - Here starting index is included while selecting rows/columns, but the ending index is not included. That means, if we write 10 in place of ending index, the row at index 10 will not be included, instead, rows till index 9 will be included. "
   ]
  },
  {
   "cell_type": "code",
   "execution_count": 9,
   "metadata": {},
   "outputs": [
    {
     "name": "stdout",
     "output_type": "stream",
     "text": [
      "first two rows : \n",
      "[[ 1  2  3  4  5]\n",
      " [ 6  7  8  9 10]]\n"
     ]
    }
   ],
   "source": [
    "# this will select rows at index 0 and 1, where index 2 will not be included. \n",
    "print(f'first two rows : \\n{b_array[0:2]}') "
   ]
  },
  {
   "cell_type": "markdown",
   "metadata": {},
   "source": [
    "- A simple colon `:` without any starting or ending index will select all the rows"
   ]
  },
  {
   "cell_type": "code",
   "execution_count": 10,
   "metadata": {},
   "outputs": [
    {
     "name": "stdout",
     "output_type": "stream",
     "text": [
      "all the rows selected with colon `:` \n",
      "[[ 1  2  3  4  5]\n",
      " [ 6  7  8  9 10]\n",
      " [11 12 13 14 15]]\n"
     ]
    }
   ],
   "source": [
    "# selecting all the rows\n",
    "print(f\"all the rows selected with colon `:` \\n{    b_array[ : ]}\")"
   ]
  },
  {
   "cell_type": "markdown",
   "metadata": {},
   "source": [
    "#### Accessing Columns "
   ]
  },
  {
   "cell_type": "code",
   "execution_count": 6,
   "metadata": {},
   "outputs": [
    {
     "name": "stdout",
     "output_type": "stream",
     "text": [
      "second column : [ 3  8 13]\n"
     ]
    }
   ],
   "source": [
    "print(f'second column : {    b_array[:,1]   }')\n",
    "print(f'fourth column : {   b_array[:,3]    }')\n",
    "print(f'last column : {     b_array[:,-1]   }')"
   ]
  }
 ],
 "metadata": {
  "kernelspec": {
   "display_name": "base",
   "language": "python",
   "name": "python3"
  },
  "language_info": {
   "codemirror_mode": {
    "name": "ipython",
    "version": 3
   },
   "file_extension": ".py",
   "mimetype": "text/x-python",
   "name": "python",
   "nbconvert_exporter": "python",
   "pygments_lexer": "ipython3",
   "version": "3.11.5"
  }
 },
 "nbformat": 4,
 "nbformat_minor": 2
}
