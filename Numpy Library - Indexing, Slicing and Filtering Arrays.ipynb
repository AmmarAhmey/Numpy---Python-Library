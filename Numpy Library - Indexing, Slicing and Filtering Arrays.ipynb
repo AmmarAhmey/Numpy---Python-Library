{
 "cells": [
  {
   "cell_type": "markdown",
   "metadata": {},
   "source": [
    "<h1 align = center>Numpy Library - Indexing, Slicing and Filtering Arrays</h1>"
   ]
  },
  {
   "cell_type": "markdown",
   "metadata": {},
   "source": [
    "## Indexing Array Elements"
   ]
  },
  {
   "cell_type": "markdown",
   "metadata": {},
   "source": [
    "### Indexing 1D Arrays"
   ]
  },
  {
   "cell_type": "code",
   "execution_count": 1,
   "metadata": {},
   "outputs": [],
   "source": [
    "import numpy as np"
   ]
  },
  {
   "cell_type": "code",
   "execution_count": 2,
   "metadata": {},
   "outputs": [
    {
     "name": "stdout",
     "output_type": "stream",
     "text": [
      "second element : 2\n",
      "fifth element : 5\n",
      "first element from the last : 5\n",
      "third element from the last : 3\n"
     ]
    }
   ],
   "source": [
    "an_array = np.array([1,2,3,4,5])\n",
    "second_element = an_array[1]\n",
    "fifth_element = an_array[4]\n",
    "first_element_from_last = an_array[-1]\n",
    "third_element_from_last = an_array[-3]\n",
    "\n",
    "\n",
    "print(f'second element : {second_element}')\n",
    "print(f'fifth element : {fifth_element}')\n",
    "print(f'first element from the last : {first_element_from_last}')\n",
    "print(f'third element from the last : {third_element_from_last}')"
   ]
  },
  {
   "cell_type": "markdown",
   "metadata": {},
   "source": [
    "### Indexing 2D-Arrays"
   ]
  },
  {
   "cell_type": "code",
   "execution_count": 3,
   "metadata": {},
   "outputs": [
    {
     "data": {
      "text/plain": [
       "(3, 5)"
      ]
     },
     "execution_count": 3,
     "metadata": {},
     "output_type": "execute_result"
    }
   ],
   "source": [
    "# defining a 2D array\n",
    "b_array = np.array([\n",
    "    [1,2,3,4,5],\n",
    "    [6,7,8,9,10],\n",
    "    [11,12,13,14,15]\n",
    "])\n",
    "\n",
    "b_array.shape"
   ]
  },
  {
   "cell_type": "markdown",
   "metadata": {},
   "source": [
    "#### Accessing rows"
   ]
  },
  {
   "cell_type": "code",
   "execution_count": 4,
   "metadata": {},
   "outputs": [
    {
     "name": "stdout",
     "output_type": "stream",
     "text": [
      "first row : [1 2 3 4 5]\n",
      "second row : [ 6  7  8  9 10]\n"
     ]
    }
   ],
   "source": [
    "print(f'first row : {   b_array[0]  }')\n",
    "print(f'second row : {  b_array[1]  }')"
   ]
  },
  {
   "cell_type": "markdown",
   "metadata": {},
   "source": [
    "#### Accessing Multiple Rows at a Time\n",
    "- Multiple row are accessed using `:`. A colon indicates a range of rows (or columns for that matter).\n",
    "- __Syntax__\n",
    "  - `our_array[starting_index : ending_index]`\n",
    "  - Here starting index is included while selecting rows/columns, but the ending index is not included. That means, if we write 10 in place of ending index, the row at index 10 will not be included, instead, rows till index 9 will be included. "
   ]
  },
  {
   "cell_type": "code",
   "execution_count": 5,
   "metadata": {},
   "outputs": [
    {
     "name": "stdout",
     "output_type": "stream",
     "text": [
      "first two rows : \n",
      "[[ 1  2  3  4  5]\n",
      " [ 6  7  8  9 10]]\n"
     ]
    }
   ],
   "source": [
    "# this will select rows at index 0 and 1, where index 2 will not be included. \n",
    "print(f'first two rows : \\n{b_array[0:2]}') "
   ]
  },
  {
   "cell_type": "markdown",
   "metadata": {},
   "source": [
    "- A simple colon `:` without any starting or ending index will select all the rows"
   ]
  },
  {
   "cell_type": "code",
   "execution_count": 6,
   "metadata": {},
   "outputs": [
    {
     "name": "stdout",
     "output_type": "stream",
     "text": [
      "all the rows selected with colon `:` \n",
      "[[ 1  2  3  4  5]\n",
      " [ 6  7  8  9 10]\n",
      " [11 12 13 14 15]]\n"
     ]
    }
   ],
   "source": [
    "# selecting all the rows\n",
    "print(f\"all the rows selected with colon `:` \\n{    b_array[ : ]}\")"
   ]
  },
  {
   "cell_type": "markdown",
   "metadata": {},
   "source": [
    "#### Accessing Columns \n",
    "- The `:` in place of row index indicates that we want to select all the rows and while selecting a column, we do need all the rows as how can we get a complete column if any row is missing? That is why we need all the rows, hence we use `:` for the said purpose. \n",
    "- The column index is mention after the row index, where both row and column indexes are separated using a comma `,`. \n",
    "- __Syntax__:\n",
    "  - array_name[row_indexes , column indexes]\n",
    "  - Using columns `:` in place of both, rows and columns will fetch all the rows and all the columns."
   ]
  },
  {
   "cell_type": "code",
   "execution_count": 7,
   "metadata": {},
   "outputs": [
    {
     "name": "stdout",
     "output_type": "stream",
     "text": [
      "second column : [ 2  7 12]\n",
      "fourth column : [ 4  9 14]\n",
      "last column : [ 5 10 15]\n"
     ]
    }
   ],
   "source": [
    "print(f'second column : {    b_array[:,1]   }')\n",
    "print(f'fourth column : {   b_array[:,3]    }')\n",
    "print(f'last column : {     b_array[:,-1]   }')"
   ]
  },
  {
   "cell_type": "code",
   "execution_count": 8,
   "metadata": {},
   "outputs": [
    {
     "data": {
      "text/plain": [
       "array([[ 1,  2,  3,  4,  5],\n",
       "       [ 6,  7,  8,  9, 10],\n",
       "       [11, 12, 13, 14, 15]])"
      ]
     },
     "execution_count": 8,
     "metadata": {},
     "output_type": "execute_result"
    }
   ],
   "source": [
    "b_array[: , :]"
   ]
  },
  {
   "cell_type": "markdown",
   "metadata": {},
   "source": [
    "#### Accessing a Particular Set of Elements from ND-Arrays"
   ]
  },
  {
   "cell_type": "markdown",
   "metadata": {},
   "source": [
    "- 4 elements from top left"
   ]
  },
  {
   "cell_type": "code",
   "execution_count": 9,
   "metadata": {},
   "outputs": [
    {
     "data": {
      "text/plain": [
       "array([[1, 2],\n",
       "       [6, 7]])"
      ]
     },
     "execution_count": 9,
     "metadata": {},
     "output_type": "execute_result"
    }
   ],
   "source": [
    "b_array[0:2, 0:2]"
   ]
  },
  {
   "cell_type": "markdown",
   "metadata": {},
   "source": [
    "- Accessing 4th and 5th elements of the second and third row respectively. "
   ]
  },
  {
   "cell_type": "code",
   "execution_count": 10,
   "metadata": {},
   "outputs": [
    {
     "data": {
      "text/plain": [
       "array([[ 8,  9],\n",
       "       [13, 14]])"
      ]
     },
     "execution_count": 10,
     "metadata": {},
     "output_type": "execute_result"
    }
   ],
   "source": [
    "b_array[1:3,2:4]"
   ]
  },
  {
   "cell_type": "markdown",
   "metadata": {},
   "source": [
    "### Accessing Elements in a 3D array"
   ]
  },
  {
   "cell_type": "code",
   "execution_count": 11,
   "metadata": {},
   "outputs": [
    {
     "name": "stdout",
     "output_type": "stream",
     "text": [
      "[[[ 1  2  3]\n",
      "  [ 4  5  6]]\n",
      "\n",
      " [[ 7  8  9]\n",
      "  [10 11 12]]\n",
      "\n",
      " [[13 14 15]\n",
      "  [16 17 18]]]\n",
      "array shape : (3, 2, 3)\n"
     ]
    }
   ],
   "source": [
    "c_array = np.array(\n",
    "    [\n",
    "\n",
    "        [\n",
    "            [1, 2, 3],\n",
    "            [4, 5, 6]\n",
    "        ],\n",
    "        [\n",
    "            [7, 8, 9],\n",
    "            [10, 11, 12]\n",
    "        ],\n",
    "        [\n",
    "            [13, 14, 15],\n",
    "            [16, 17, 18]\n",
    "        ]\n",
    "\n",
    "    ]\n",
    ")\n",
    "\n",
    "print(c_array)\n",
    "print(f\"array shape : {c_array.shape}\")"
   ]
  },
  {
   "cell_type": "markdown",
   "metadata": {},
   "source": [
    "#### Accessing a Complete Inner Array"
   ]
  },
  {
   "cell_type": "code",
   "execution_count": 12,
   "metadata": {},
   "outputs": [
    {
     "data": {
      "text/plain": [
       "array([[1, 2, 3],\n",
       "       [4, 5, 6]])"
      ]
     },
     "execution_count": 12,
     "metadata": {},
     "output_type": "execute_result"
    }
   ],
   "source": [
    "c_array[0]"
   ]
  },
  {
   "cell_type": "markdown",
   "metadata": {},
   "source": [
    "#### Accessing a Range of Complete Inner Arrays"
   ]
  },
  {
   "cell_type": "code",
   "execution_count": 13,
   "metadata": {},
   "outputs": [
    {
     "data": {
      "text/plain": [
       "array([[[ 7,  8,  9],\n",
       "        [10, 11, 12]],\n",
       "\n",
       "       [[13, 14, 15],\n",
       "        [16, 17, 18]]])"
      ]
     },
     "execution_count": 13,
     "metadata": {},
     "output_type": "execute_result"
    }
   ],
   "source": [
    "c_array[1:3] # last two inner arrays"
   ]
  },
  {
   "cell_type": "markdown",
   "metadata": {},
   "source": [
    "#### Accessing a Single Row from a Single Inner List"
   ]
  },
  {
   "cell_type": "code",
   "execution_count": 14,
   "metadata": {},
   "outputs": [
    {
     "data": {
      "text/plain": [
       "array([7, 8, 9])"
      ]
     },
     "execution_count": 14,
     "metadata": {},
     "output_type": "execute_result"
    }
   ],
   "source": [
    "'''\n",
    "1. first row of second inner array\n",
    "\n",
    "c_array[1 , 0]\n",
    "the 1 indicates which outer list to select, here we are selecting outer list at index 1\n",
    "the 0 indicates inside selected list at index 1, which inner list we want to access\n",
    "'''\n",
    "c_array[1 , 0]\n",
    "\n"
   ]
  },
  {
   "cell_type": "code",
   "execution_count": 15,
   "metadata": {},
   "outputs": [
    {
     "data": {
      "text/plain": [
       "array([16, 17, 18])"
      ]
     },
     "execution_count": 15,
     "metadata": {},
     "output_type": "execute_result"
    }
   ],
   "source": [
    "# second row of third inner array\n",
    "c_array[2 , 1]\n"
   ]
  },
  {
   "cell_type": "markdown",
   "metadata": {},
   "source": [
    "#### Accessing a Column\n",
    "- Accessing a column is tricky in a 3D array.\n",
    "- The first argument reflects which of the outer lists we want to select, the second argument reflects which rows of these lists we want to select and third index reflects which columns to select. "
   ]
  },
  {
   "cell_type": "code",
   "execution_count": 16,
   "metadata": {},
   "outputs": [
    {
     "data": {
      "text/plain": [
       "array([[ 2,  5],\n",
       "       [ 8, 11],\n",
       "       [14, 17]])"
      ]
     },
     "execution_count": 16,
     "metadata": {},
     "output_type": "execute_result"
    }
   ],
   "source": [
    "# 2nd columns of all the lists\n",
    "c_array[: , : , 1]"
   ]
  },
  {
   "cell_type": "code",
   "execution_count": 17,
   "metadata": {},
   "outputs": [
    {
     "data": {
      "text/plain": [
       "array([[ 1,  4],\n",
       "       [ 7, 10],\n",
       "       [13, 16]])"
      ]
     },
     "execution_count": 17,
     "metadata": {},
     "output_type": "execute_result"
    }
   ],
   "source": [
    "# 1st column of all the lists \n",
    "c_array[: , : , 0]"
   ]
  },
  {
   "cell_type": "markdown",
   "metadata": {},
   "source": [
    "#### Accessing a Single Element\n",
    "- Selecting 14 from the third inner list."
   ]
  },
  {
   "cell_type": "code",
   "execution_count": 18,
   "metadata": {},
   "outputs": [
    {
     "data": {
      "text/plain": [
       "14"
      ]
     },
     "execution_count": 18,
     "metadata": {},
     "output_type": "execute_result"
    }
   ],
   "source": [
    "c_array[2 , 0 , 1]"
   ]
  },
  {
   "cell_type": "markdown",
   "metadata": {},
   "source": [
    "## Filtering Arrays \n",
    "- There are two main methods to filter numpy arrays:\n",
    "    1. Masking Method\n",
    "    2. `np.where()` Method"
   ]
  },
  {
   "cell_type": "markdown",
   "metadata": {},
   "source": [
    "### Masking Method\n",
    "- When we apply conditional operators to a NumPy array, NumPy does not return a modified array with the applied conditions. Instead, it checks each array element against the specified conditions and returns `True` if an element meets the conditions or `False` if it does not. As a result, we get a Boolean NumPy array (of the same shape as the original array) where each element indicates whether the condition was met. This returned array is called a mask.\n",
    "- This mask can then be used within square brackets of our array in place of row and column indices to select only those elements from our array that correspond to `True` values in the mask array."
   ]
  },
  {
   "cell_type": "markdown",
   "metadata": {},
   "source": [
    "#### Basic Filtering"
   ]
  },
  {
   "cell_type": "code",
   "execution_count": 19,
   "metadata": {},
   "outputs": [
    {
     "name": "stdout",
     "output_type": "stream",
     "text": [
      "The original array : [10 11 12 13 14 15 16 17 18 19 20 21 22 23 24 25 26 27 28 29 30]\n"
     ]
    }
   ],
   "source": [
    "my_array = np.arange(10,31)\n",
    "print(f\"The original array : {my_array}\")"
   ]
  },
  {
   "cell_type": "markdown",
   "metadata": {},
   "source": [
    "- Lets create a mask that checks our array against the condition `element > 20` and returns True/False accordingly for each element."
   ]
  },
  {
   "cell_type": "code",
   "execution_count": 20,
   "metadata": {},
   "outputs": [
    {
     "name": "stdout",
     "output_type": "stream",
     "text": [
      "The masked returned : [False False False False False False False False False False False  True\n",
      "  True  True  True  True  True  True  True  True  True]\n"
     ]
    }
   ],
   "source": [
    "mask = my_array > 20\n",
    "print(f\"The masked returned : {mask}\")"
   ]
  },
  {
   "cell_type": "markdown",
   "metadata": {},
   "source": [
    "- Now we will pass this mask to our array in place of element indices to filter our array."
   ]
  },
  {
   "cell_type": "code",
   "execution_count": 21,
   "metadata": {},
   "outputs": [
    {
     "data": {
      "text/plain": [
       "array([21, 22, 23, 24, 25, 26, 27, 28, 29, 30])"
      ]
     },
     "execution_count": 21,
     "metadata": {},
     "output_type": "execute_result"
    }
   ],
   "source": [
    "my_array[mask]"
   ]
  },
  {
   "cell_type": "markdown",
   "metadata": {},
   "source": [
    "- We can see, only element greater than 20 are turned. The array is filtered. \n",
    "\n",
    "Lets have another example:\n",
    "- Given the following 2D array, filter out all elements that are less than 50."
   ]
  },
  {
   "cell_type": "code",
   "execution_count": 22,
   "metadata": {},
   "outputs": [
    {
     "data": {
      "text/plain": [
       "array([34, 49, 22, 11])"
      ]
     },
     "execution_count": 22,
     "metadata": {},
     "output_type": "execute_result"
    }
   ],
   "source": [
    "our_array = np.array([[34, 55, 72],\n",
    "                     [49, 50, 88],\n",
    "                     [65, 22, 11]])\n",
    "\n",
    "mask = our_array < 50\n",
    "\n",
    "our_array[mask]"
   ]
  },
  {
   "cell_type": "code",
   "execution_count": 23,
   "metadata": {},
   "outputs": [
    {
     "name": "stdout",
     "output_type": "stream",
     "text": [
      "Of course we can sort them : [11, 22, 34, 49]\n"
     ]
    }
   ],
   "source": [
    "print(f\"Of course we can sort them : {sorted(our_array[mask])}\")"
   ]
  },
  {
   "cell_type": "markdown",
   "metadata": {},
   "source": [
    "#### Compound Conditions \n",
    "- It is possible to have multiple conditions.\n",
    "- Each condition is separated using python conditional operators. \n",
    "\n",
    "Lets create a 1D array with values from 1 to 20. Filter out elements that are either less than 5 or greater than 15."
   ]
  },
  {
   "cell_type": "code",
   "execution_count": 24,
   "metadata": {},
   "outputs": [
    {
     "data": {
      "text/plain": [
       "array([ 1,  2,  3,  4,  5,  6,  7,  8,  9, 10, 11, 12, 13, 14, 15, 16, 17,\n",
       "       18, 19, 20])"
      ]
     },
     "execution_count": 24,
     "metadata": {},
     "output_type": "execute_result"
    }
   ],
   "source": [
    "our_array = np.arange(1,21)\n",
    "our_array"
   ]
  },
  {
   "cell_type": "code",
   "execution_count": 25,
   "metadata": {},
   "outputs": [
    {
     "data": {
      "text/plain": [
       "array([ 1,  2,  3,  4, 16, 17, 18, 19, 20])"
      ]
     },
     "execution_count": 25,
     "metadata": {},
     "output_type": "execute_result"
    }
   ],
   "source": [
    "mask = (our_array < 5) | (our_array > 15)\n",
    "\n",
    "our_array[mask]"
   ]
  },
  {
   "cell_type": "markdown",
   "metadata": {},
   "source": [
    "Lets filter out all elements that are greater than or equal to 30 and less than or equal to 60."
   ]
  },
  {
   "cell_type": "code",
   "execution_count": 26,
   "metadata": {},
   "outputs": [
    {
     "data": {
      "text/plain": [
       "array([[25, 40, 35],\n",
       "       [50, 28, 65],\n",
       "       [20, 45, 58]])"
      ]
     },
     "execution_count": 26,
     "metadata": {},
     "output_type": "execute_result"
    }
   ],
   "source": [
    "our_array = np.array([[25, 40, 35],\n",
    "                      [50, 28, 65],\n",
    "                      [20, 45, 58]])\n",
    "our_array"
   ]
  },
  {
   "cell_type": "code",
   "execution_count": 27,
   "metadata": {},
   "outputs": [
    {
     "data": {
      "text/plain": [
       "array([40, 35, 50, 45, 58])"
      ]
     },
     "execution_count": 27,
     "metadata": {},
     "output_type": "execute_result"
    }
   ],
   "source": [
    "mask = (our_array >= 30) & (our_array <= 60)\n",
    "\n",
    "our_array[mask]"
   ]
  },
  {
   "cell_type": "markdown",
   "metadata": {},
   "source": [
    "#### Logical Operations\n",
    "- We can also make use of numpy's logical functions to apply multiple conditions for array filtration \n",
    "\n",
    "Lets create a 1D array of integers from 0 to 50. Filter out the elements that are divisible by both 3 and 5."
   ]
  },
  {
   "cell_type": "code",
   "execution_count": 28,
   "metadata": {},
   "outputs": [
    {
     "data": {
      "text/plain": [
       "array([ 0,  1,  2,  3,  4,  5,  6,  7,  8,  9, 10, 11, 12, 13, 14, 15, 16,\n",
       "       17, 18, 19, 20, 21, 22, 23, 24, 25, 26, 27, 28, 29, 30, 31, 32, 33,\n",
       "       34, 35, 36, 37, 38, 39, 40, 41, 42, 43, 44, 45, 46, 47, 48, 49, 50])"
      ]
     },
     "execution_count": 28,
     "metadata": {},
     "output_type": "execute_result"
    }
   ],
   "source": [
    "our_array = np.arange(0 , 51)\n",
    "our_array"
   ]
  },
  {
   "cell_type": "code",
   "execution_count": 29,
   "metadata": {},
   "outputs": [
    {
     "data": {
      "text/plain": [
       "array([ 0, 15, 30, 45])"
      ]
     },
     "execution_count": 29,
     "metadata": {},
     "output_type": "execute_result"
    }
   ],
   "source": [
    "mask = np.logical_and(our_array % 3 == 0, our_array % 5 == 0)  \n",
    "\n",
    "our_array[mask]"
   ]
  },
  {
   "cell_type": "markdown",
   "metadata": {},
   "source": [
    "Let us filter out all elements that are either even or greater than 70."
   ]
  },
  {
   "cell_type": "code",
   "execution_count": 30,
   "metadata": {},
   "outputs": [
    {
     "data": {
      "text/plain": [
       "array([[20, 45, 64, 81],\n",
       "       [33, 72, 19, 88],\n",
       "       [90, 34, 55, 77]])"
      ]
     },
     "execution_count": 30,
     "metadata": {},
     "output_type": "execute_result"
    }
   ],
   "source": [
    "our_array = np.array([[20, 45, 64, 81],\n",
    "                      [33, 72, 19, 88],\n",
    "                      [90, 34, 55, 77]])\n",
    "our_array"
   ]
  },
  {
   "cell_type": "code",
   "execution_count": 31,
   "metadata": {},
   "outputs": [
    {
     "data": {
      "text/plain": [
       "array([20, 64, 81, 72, 88, 90, 34, 77])"
      ]
     },
     "execution_count": 31,
     "metadata": {},
     "output_type": "execute_result"
    }
   ],
   "source": [
    "mask = np.logical_or(our_array % 2 == 0, our_array > 70)\n",
    "\n",
    "our_array[mask]"
   ]
  },
  {
   "cell_type": "markdown",
   "metadata": {},
   "source": [
    "### The `np.where()` Method\n",
    "- Just like the masking method, we can also filter arrays using the `np.where()` method. \n",
    "- Unlike masking method, np.where() does not return a boolean array, rather it returns a tuple consisting of indices of all the elements that meets the provided conditions. \n",
    "- This is more powerful than masking method, because, in addition to finding desired values according to our conditions, it can also replace those values with new one. \n",
    "- __Syntax__:\n",
    "  - `np.where(conditions_to_meet, do_if_conditions_met , do_if_conditions_did_not_meet)`\n",
    "  - First argument: set of conditions to check against each element of the array just like the masking method. \n",
    "  - Second argument: array of values to replace all the values that meet our provided set of conditions. \n",
    "  - Third argument: array of values to replace all the values that do not meet our provided set of conditions. This could be the original array, in that case, it will mean that the values will be replaced with the original array values if the conditions did not meet, that will eventually mean to leave the values as it is if the conditions not met. \n",
    "\n",
    "              "
   ]
  },
  {
   "cell_type": "markdown",
   "metadata": {},
   "source": [
    "#### Basic `np.where()` Usage"
   ]
  },
  {
   "cell_type": "markdown",
   "metadata": {},
   "source": [
    "- Lets create an array"
   ]
  },
  {
   "cell_type": "code",
   "execution_count": 32,
   "metadata": {},
   "outputs": [
    {
     "name": "stdout",
     "output_type": "stream",
     "text": [
      "[[34 55 72]\n",
      " [49 50 88]\n",
      " [65 22 11]]\n"
     ]
    }
   ],
   "source": [
    "our_array = np.array([[34, 55, 72],\n",
    "                     [49, 50, 88],\n",
    "                     [65, 22, 11]])\n",
    "\n",
    "print(our_array)"
   ]
  },
  {
   "cell_type": "markdown",
   "metadata": {},
   "source": [
    "- Applying a condition using `np.where` and getting the indices of values. "
   ]
  },
  {
   "cell_type": "code",
   "execution_count": 33,
   "metadata": {},
   "outputs": [
    {
     "name": "stdout",
     "output_type": "stream",
     "text": [
      "returned indices of elements that meet our condition : \n",
      "(array([0, 0, 0, 1, 1, 1, 2], dtype=int64), array([0, 1, 2, 0, 1, 2, 0], dtype=int64))))\n"
     ]
    }
   ],
   "source": [
    "condition = our_array > 25\n",
    "\n",
    "indices = np.where(condition)\n",
    "\n",
    "print(f\"returned indices of elements that meet our condition : \\n{indices}))\")"
   ]
  },
  {
   "cell_type": "markdown",
   "metadata": {},
   "source": [
    "- Getting the filtered out array using the indices"
   ]
  },
  {
   "cell_type": "code",
   "execution_count": 34,
   "metadata": {},
   "outputs": [
    {
     "name": "stdout",
     "output_type": "stream",
     "text": [
      "[34 55 72 49 50 88 65]\n",
      "sorted to check [34, 49, 50, 55, 65, 72, 88]\n"
     ]
    }
   ],
   "source": [
    "x = our_array[indices]\n",
    "print(x)\n",
    "print(f'sorted to check {sorted(our_array[indices])}')"
   ]
  },
  {
   "cell_type": "markdown",
   "metadata": {},
   "source": [
    "- Lets create a 1D array with values from 10 to 30 and use `np.where()` to replace elements that are greater than 20 with -1."
   ]
  },
  {
   "cell_type": "code",
   "execution_count": 35,
   "metadata": {},
   "outputs": [
    {
     "name": "stdout",
     "output_type": "stream",
     "text": [
      "original array \n",
      "[10 11 12 13 14 15 16 17 18 19 20 21 22 23 24 25 26 27 28 29 30]\n"
     ]
    }
   ],
   "source": [
    "our_array = np.arange(10, 31)\n",
    "print(f\"original array \\n{our_array}\")"
   ]
  },
  {
   "cell_type": "code",
   "execution_count": 36,
   "metadata": {},
   "outputs": [
    {
     "name": "stdout",
     "output_type": "stream",
     "text": [
      "[10 11 12 13 14 15 16 17 18 19 20 -1 -1 -1 -1 -1 -1 -1 -1 -1 -1]\n"
     ]
    }
   ],
   "source": [
    "condition = our_array > 20\n",
    "replace_if_condition_met = -1\n",
    "replace_if_condition_did_not_meet = our_array # replace with original array / leave the values as it is\n",
    "\n",
    "filtered_array = np.where(condition, replace_if_condition_met, replace_if_condition_did_not_meet)\n",
    "print(filtered_array)"
   ]
  },
  {
   "cell_type": "markdown",
   "metadata": {},
   "source": [
    "- Lets take another example: Given a 2D array, use np.where() to replace all elements that are less than 50 with 0."
   ]
  },
  {
   "cell_type": "code",
   "execution_count": 37,
   "metadata": {},
   "outputs": [
    {
     "name": "stdout",
     "output_type": "stream",
     "text": [
      "[[34 55 72]\n",
      " [49 50 88]\n",
      " [65 22 11]]\n"
     ]
    }
   ],
   "source": [
    "our_array = np.array([[34, 55, 72],\n",
    "                      [49, 50, 88],\n",
    "                      [65, 22, 11]])\n",
    "\n",
    "print(our_array)"
   ]
  },
  {
   "cell_type": "code",
   "execution_count": 38,
   "metadata": {},
   "outputs": [
    {
     "name": "stdout",
     "output_type": "stream",
     "text": [
      "[[ 0 55 72]\n",
      " [ 0 50 88]\n",
      " [65  0  0]]\n"
     ]
    }
   ],
   "source": [
    "new_array = np.where(our_array < 50, 0, our_array)\n",
    "print(new_array)"
   ]
  },
  {
   "cell_type": "markdown",
   "metadata": {},
   "source": [
    "#### Compound Conditions with `np.where()`"
   ]
  },
  {
   "cell_type": "markdown",
   "metadata": {},
   "source": [
    "- Create a 1D array of integers from 0 to 50. Use np.where() to replace elements that are divisible by both 3 and 5 with 1000"
   ]
  },
  {
   "cell_type": "code",
   "execution_count": 39,
   "metadata": {},
   "outputs": [
    {
     "name": "stdout",
     "output_type": "stream",
     "text": [
      "[ 0  1  2  3  4  5  6  7  8  9 10 11 12 13 14 15 16 17 18 19 20 21 22 23\n",
      " 24 25 26 27 28 29 30 31 32 33 34 35 36 37 38 39 40 41 42 43 44 45 46 47\n",
      " 48 49 50]\n"
     ]
    }
   ],
   "source": [
    "our_array = np.arange(0,51)\n",
    "print(our_array)"
   ]
  },
  {
   "cell_type": "code",
   "execution_count": 40,
   "metadata": {},
   "outputs": [
    {
     "name": "stdout",
     "output_type": "stream",
     "text": [
      "[1000    1    2    3    4    5    6    7    8    9   10   11   12   13\n",
      "   14 1000   16   17   18   19   20   21   22   23   24   25   26   27\n",
      "   28   29 1000   31   32   33   34   35   36   37   38   39   40   41\n",
      "   42   43   44 1000   46   47   48   49   50]\n"
     ]
    }
   ],
   "source": [
    "new_array = np.where((our_array % 3 == 0) & (our_array % 5 == 0), 1000, our_array)\n",
    "print(new_array)"
   ]
  },
  {
   "cell_type": "markdown",
   "metadata": {},
   "source": [
    "- Using a 2D array, use np.where() to replace all elements that are either even or greater than 70 with -1"
   ]
  },
  {
   "cell_type": "code",
   "execution_count": 41,
   "metadata": {},
   "outputs": [
    {
     "name": "stdout",
     "output_type": "stream",
     "text": [
      "[[20 45 64 81]\n",
      " [33 72 19 88]\n",
      " [90 34 55 77]]\n"
     ]
    }
   ],
   "source": [
    "our_array = np.array([[20, 45, 64, 81],\n",
    "                      [33, 72, 19, 88],\n",
    "                      [90, 34, 55, 77]])\n",
    "print(our_array)"
   ]
  },
  {
   "cell_type": "code",
   "execution_count": 42,
   "metadata": {},
   "outputs": [
    {
     "name": "stdout",
     "output_type": "stream",
     "text": [
      "[[-1 45 -1 -1]\n",
      " [33 -1 19 -1]\n",
      " [-1 -1 55 -1]]\n"
     ]
    }
   ],
   "source": [
    "new_array = np.where((our_array % 2 == 0) | (our_array > 70), -1, our_array)\n",
    "print(new_array)"
   ]
  },
  {
   "cell_type": "markdown",
   "metadata": {},
   "source": [
    "#### Logical Operations with `np.where()`"
   ]
  },
  {
   "cell_type": "markdown",
   "metadata": {},
   "source": [
    "- Create a 1D array with values from 1 to 20. Use np.where() to replace elements that are either less than 5 or greater than 15 with 0."
   ]
  },
  {
   "cell_type": "code",
   "execution_count": 43,
   "metadata": {},
   "outputs": [
    {
     "name": "stdout",
     "output_type": "stream",
     "text": [
      "[ 1  2  3  4  5  6  7  8  9 10 11 12 13 14 15 16 17 18 19 20]\n"
     ]
    }
   ],
   "source": [
    "our_array = np.arange(1,21)\n",
    "print(our_array)"
   ]
  },
  {
   "cell_type": "code",
   "execution_count": 44,
   "metadata": {},
   "outputs": [
    {
     "name": "stdout",
     "output_type": "stream",
     "text": [
      "[ 0  0  0  0  5  6  7  8  9 10 11 12 13 14 15  0  0  0  0  0]\n"
     ]
    }
   ],
   "source": [
    "new_array = np.where(np.logical_or(our_array < 5, our_array > 15), 0 , our_array)\n",
    "print(new_array)"
   ]
  },
  {
   "cell_type": "markdown",
   "metadata": {},
   "source": [
    "- Given a 2D array, use np.where() to replace all elements that are greater than or equal to 30 and less than or equal to 60 with 999."
   ]
  },
  {
   "cell_type": "code",
   "execution_count": 45,
   "metadata": {},
   "outputs": [
    {
     "name": "stdout",
     "output_type": "stream",
     "text": [
      "[[25 40 35]\n",
      " [50 28 65]\n",
      " [20 45 58]]\n"
     ]
    }
   ],
   "source": [
    "our_array = np.array([[25, 40, 35],\n",
    "                      [50, 28, 65],\n",
    "                      [20, 45, 58]])\n",
    "print(our_array)"
   ]
  },
  {
   "cell_type": "code",
   "execution_count": 46,
   "metadata": {},
   "outputs": [
    {
     "name": "stdout",
     "output_type": "stream",
     "text": [
      "[[ 25 999 999]\n",
      " [999  28  65]\n",
      " [ 20 999 999]]\n"
     ]
    }
   ],
   "source": [
    "new_array = np.where(np.logical_and(our_array >= 30, our_array <= 60), 999, our_array)\n",
    "print(new_array)"
   ]
  }
 ],
 "metadata": {
  "kernelspec": {
   "display_name": "base",
   "language": "python",
   "name": "python3"
  },
  "language_info": {
   "codemirror_mode": {
    "name": "ipython",
    "version": 3
   },
   "file_extension": ".py",
   "mimetype": "text/x-python",
   "name": "python",
   "nbconvert_exporter": "python",
   "pygments_lexer": "ipython3",
   "version": "3.11.5"
  }
 },
 "nbformat": 4,
 "nbformat_minor": 2
}
