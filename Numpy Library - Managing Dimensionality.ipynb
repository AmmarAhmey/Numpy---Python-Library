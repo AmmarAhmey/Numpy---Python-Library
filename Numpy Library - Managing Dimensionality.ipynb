{
 "cells": [
  {
   "cell_type": "markdown",
   "metadata": {},
   "source": [
    "<h1 align = center>Numpy Library - Managing Array Dimensionality</h1>"
   ]
  },
  {
   "cell_type": "code",
   "execution_count": 1,
   "metadata": {},
   "outputs": [],
   "source": [
    "# importing numpy here\n",
    "import numpy as np"
   ]
  },
  {
   "cell_type": "markdown",
   "metadata": {},
   "source": [
    "## Checking The Dimensions of a Numpy Array\n",
    "- The `shape()` property of an array tells us its dimensionality, unlike other common numpy functions, it is not called on `np` module, rather its called on the actual array object. Lets dive in:"
   ]
  },
  {
   "cell_type": "code",
   "execution_count": 4,
   "metadata": {},
   "outputs": [
    {
     "name": "stdout",
     "output_type": "stream",
     "text": [
      "[[1 2 3]\n",
      " [4 5 6]]\n",
      "The dimensions of this array are : (2, 3)\n",
      "That means we have 2 rows and 3 columns in this 2D array/matrix.\n"
     ]
    }
   ],
   "source": [
    "an_array = np.array(\n",
    "    [\n",
    "        [1,2,3],\n",
    "        [4,5,6]\n",
    "    ]\n",
    ")\n",
    "print(an_array)\n",
    "\n",
    "array_dimensions = an_array.shape\n",
    "print(f'The dimensions of this array are : {array_dimensions}')\n",
    "print(f'That means we have {array_dimensions[0]} rows and {array_dimensions[1]} columns in this 2D array/matrix.')"
   ]
  },
  {
   "cell_type": "markdown",
   "metadata": {},
   "source": [
    "## Reshaping a Numpy Array / Changing its Dimensions \n",
    "- Numpy facilitates us in changing the dimensionality of an array. \n",
    "- It is necessary to check the "
   ]
  },
  {
   "cell_type": "code",
   "execution_count": null,
   "metadata": {},
   "outputs": [],
   "source": []
  }
 ],
 "metadata": {
  "kernelspec": {
   "display_name": "base",
   "language": "python",
   "name": "python3"
  },
  "language_info": {
   "codemirror_mode": {
    "name": "ipython",
    "version": 3
   },
   "file_extension": ".py",
   "mimetype": "text/x-python",
   "name": "python",
   "nbconvert_exporter": "python",
   "pygments_lexer": "ipython3",
   "version": "3.12.4"
  }
 },
 "nbformat": 4,
 "nbformat_minor": 2
}
