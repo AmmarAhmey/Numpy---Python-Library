{
 "cells": [
  {
   "cell_type": "markdown",
   "metadata": {},
   "source": [
    "<h1 align = center>Numpy Library - Managing Array Dimensionality</h1>"
   ]
  },
  {
   "cell_type": "code",
   "execution_count": 1,
   "metadata": {},
   "outputs": [],
   "source": [
    "# importing numpy here\n",
    "import numpy as np"
   ]
  },
  {
   "cell_type": "markdown",
   "metadata": {},
   "source": [
    "## Checking The Dimensions of a Numpy Array\n",
    "- The `shape()` property of an array tells us its dimensionality, unlike other common numpy functions, it is not called on `np` module, rather its called on the actual array object. Lets dive in:"
   ]
  },
  {
   "cell_type": "code",
   "execution_count": 2,
   "metadata": {},
   "outputs": [
    {
     "name": "stdout",
     "output_type": "stream",
     "text": [
      "[[1 2 3]\n",
      " [4 5 6]]\n",
      "The dimensions of this array are : (2, 3)\n",
      "That means we have 2 rows and 3 columns in this 2D array/matrix.\n"
     ]
    }
   ],
   "source": [
    "an_array = np.array(\n",
    "    [\n",
    "        [1,2,3],\n",
    "        [4,5,6]\n",
    "    ]\n",
    ")\n",
    "print(an_array)\n",
    "\n",
    "array_dimensions = an_array.shape\n",
    "print(f'The dimensions of this array are : {array_dimensions}')\n",
    "print(f'That means we have {array_dimensions[0]} rows and {array_dimensions[1]} columns in this 2D array/matrix.')"
   ]
  },
  {
   "cell_type": "markdown",
   "metadata": {},
   "source": [
    "## A Deeper Look on Dimensionality\n",
    "- The 1D arrays are simple vectors. There is not concept of rows or columns in 1D arrays since no such information is provided during their creation. \n",
    "- For the reason provided above, although our 1D array is a vector, still we cannot say if its a row vector or a column vector. \n",
    "- For example, have a look at the following 1D array:"
   ]
  },
  {
   "cell_type": "code",
   "execution_count": 3,
   "metadata": {},
   "outputs": [
    {
     "name": "stdout",
     "output_type": "stream",
     "text": [
      "Our first 1D array is \n",
      "[1. 1. 1. 1. 1.] \n",
      "and its dimensions are (5,)\n"
     ]
    }
   ],
   "source": [
    "one_d_array = np.ones(5) # only values are mentioned, no row or column information provided. \n",
    "print(f'Our first 1D array is \\n{one_d_array} \\nand its dimensions are {one_d_array.shape}')"
   ]
  },
  {
   "cell_type": "markdown",
   "metadata": {},
   "source": [
    "- We can see here, that the shape is `(5,)` which means, our array consists of 5 values. The shape property is not giving us any information about the rows or columns. \n",
    "- Now have a look at another 1D array:"
   ]
  },
  {
   "cell_type": "code",
   "execution_count": 4,
   "metadata": {},
   "outputs": [
    {
     "name": "stdout",
     "output_type": "stream",
     "text": [
      "Our second array is \n",
      "[[1. 1. 1. 1. 1.]] \n",
      "and its dimensions are (1, 5)\n"
     ]
    }
   ],
   "source": [
    "another_array = np.ones((1,5)) \n",
    "print(f'Our second array is \\n{another_array} \\nand its dimensions are {another_array.shape}')"
   ]
  },
  {
   "cell_type": "markdown",
   "metadata": {},
   "source": [
    "- We can see, that both of these arrays looks the same. Just like a list of values as in a simple array. \n",
    "- But if we examine closely, where the shape of the first array was `(5,)`, the shape of the second array is a little different, that is `(1,5)`. \n",
    "- Although it looks the same, the first array is just a collection of 5 values, a vector, while the second array is basically a matrix of one row and 5 columns. In other words its a row vector.\n",
    "- If we interchange the rows and column, we will see that our array will be shown vertically, indicating a single column and 5 rows. Lets try it:"
   ]
  },
  {
   "cell_type": "code",
   "execution_count": 5,
   "metadata": {},
   "outputs": [
    {
     "name": "stdout",
     "output_type": "stream",
     "text": [
      "Our third array is \n",
      "[[1.]\n",
      " [1.]\n",
      " [1.]\n",
      " [1.]\n",
      " [1.]] \n",
      "and its dimensions are (5, 1)\n"
     ]
    }
   ],
   "source": [
    "yet_another_array = np.ones((5,1)) \n",
    "print(f'Our third array is \\n{yet_another_array} \\nand its dimensions are {yet_another_array.shape}')"
   ]
  },
  {
   "cell_type": "markdown",
   "metadata": {},
   "source": [
    "## Reshaping a Numpy Array / Changing its Dimensions \n",
    "- Numpy facilitates us in changing the dimensionality of an array. \n",
    "- There are two main array methods to change the dimensionality, `flatten()` and `reshape`."
   ]
  },
  {
   "cell_type": "markdown",
   "metadata": {},
   "source": [
    "### Flatten an Array\n",
    "- By flattening an array we mean that if we have a matrix of n x n columns, we can reshape this matrix in such a way that all its rows will be placed in a single row and we will get a new 1D array instead of this matrix. \n",
    "- In this array, each row of the matrix is placed after its previous row and hence we get an array consisting of single row. \n",
    "- This newly created array is called a `flattened array`. "
   ]
  },
  {
   "cell_type": "code",
   "execution_count": 6,
   "metadata": {},
   "outputs": [
    {
     "name": "stdout",
     "output_type": "stream",
     "text": [
      "[[1. 1. 1. 1.]\n",
      " [1. 1. 1. 1.]\n",
      " [1. 1. 1. 1.]]\n"
     ]
    }
   ],
   "source": [
    "# creating a matrix of random numbers having dimensions 3x3\n",
    "a_matrix = np.ones((3,4)) \n",
    "print(a_matrix)"
   ]
  },
  {
   "cell_type": "markdown",
   "metadata": {},
   "source": [
    "- Now lets flatten this matrix into a 1D array"
   ]
  },
  {
   "cell_type": "code",
   "execution_count": 7,
   "metadata": {},
   "outputs": [
    {
     "name": "stdout",
     "output_type": "stream",
     "text": [
      "[1. 1. 1. 1. 1. 1. 1. 1. 1. 1. 1. 1.]\n",
      "shape : (12,)\n"
     ]
    }
   ],
   "source": [
    "flattened_matrix = a_matrix.flatten() # notice, flatten() is called on our numpy array, its a method of array object, not a function of numpy. \n",
    "print(flattened_matrix)\n",
    "print(f'shape : {flattened_matrix.shape}')"
   ]
  },
  {
   "cell_type": "markdown",
   "metadata": {},
   "source": [
    "### Changing Number of Row and Columns via Array Reshaping\n",
    "- The `flatten()` method does not care about the information of rows and columns in the original matrix. Everything is placed inside a single row. \n",
    "- The `reshape()` method on the other hand allows us to mold our matrix into our desired dimension by taking required number of rows and columns as its argument. Lets dive in:"
   ]
  },
  {
   "cell_type": "code",
   "execution_count": 8,
   "metadata": {},
   "outputs": [
    {
     "name": "stdout",
     "output_type": "stream",
     "text": [
      "our original matrix was\n",
      "\n",
      "[[1. 1. 1. 1.]\n",
      " [1. 1. 1. 1.]\n",
      " [1. 1. 1. 1.]]\n",
      "\n",
      "shape : (3, 4)\n"
     ]
    }
   ],
   "source": [
    "print(f'our original matrix was\\n\\n{a_matrix}\\n')\n",
    "print(f'shape : {a_matrix.shape}')"
   ]
  },
  {
   "cell_type": "markdown",
   "metadata": {},
   "source": [
    "- We can change its dimensions to `2 x 6` using the `reshape()` method."
   ]
  },
  {
   "cell_type": "code",
   "execution_count": 9,
   "metadata": {},
   "outputs": [
    {
     "name": "stdout",
     "output_type": "stream",
     "text": [
      "[[1. 1. 1. 1. 1. 1.]\n",
      " [1. 1. 1. 1. 1. 1.]]\n",
      "shape : (2, 6)\n"
     ]
    }
   ],
   "source": [
    "changed_dimensionality = a_matrix.reshape(2,6)\n",
    "print(changed_dimensionality)\n",
    "print(f'shape : {changed_dimensionality.shape}')"
   ]
  },
  {
   "cell_type": "markdown",
   "metadata": {},
   "source": [
    "- Lets change it to `6 x 2`.\n",
    "  "
   ]
  },
  {
   "cell_type": "code",
   "execution_count": 10,
   "metadata": {},
   "outputs": [
    {
     "name": "stdout",
     "output_type": "stream",
     "text": [
      "[[1. 1.]\n",
      " [1. 1.]\n",
      " [1. 1.]\n",
      " [1. 1.]\n",
      " [1. 1.]\n",
      " [1. 1.]]\n",
      "shape : (6, 2)\n"
     ]
    }
   ],
   "source": [
    "changed_dimensionality = a_matrix.reshape(6,2)\n",
    "print(changed_dimensionality)\n",
    "print(f'shape : {changed_dimensionality.shape}')"
   ]
  },
  {
   "cell_type": "markdown",
   "metadata": {},
   "source": [
    "- Now to `4 x 3`"
   ]
  },
  {
   "cell_type": "code",
   "execution_count": 11,
   "metadata": {},
   "outputs": [
    {
     "name": "stdout",
     "output_type": "stream",
     "text": [
      "[[1. 1. 1.]\n",
      " [1. 1. 1.]\n",
      " [1. 1. 1.]\n",
      " [1. 1. 1.]]\n",
      "shape : (4, 3)\n"
     ]
    }
   ],
   "source": [
    "changed_dimensionality = a_matrix.reshape(4,3)\n",
    "print(changed_dimensionality)\n",
    "print(f'shape : {changed_dimensionality.shape}')"
   ]
  },
  {
   "cell_type": "markdown",
   "metadata": {},
   "source": [
    "- Now to `12 x 1`. "
   ]
  },
  {
   "cell_type": "code",
   "execution_count": 12,
   "metadata": {},
   "outputs": [
    {
     "name": "stdout",
     "output_type": "stream",
     "text": [
      "[[1.]\n",
      " [1.]\n",
      " [1.]\n",
      " [1.]\n",
      " [1.]\n",
      " [1.]\n",
      " [1.]\n",
      " [1.]\n",
      " [1.]\n",
      " [1.]\n",
      " [1.]\n",
      " [1.]]\n",
      "shape : (12, 1)\n"
     ]
    }
   ],
   "source": [
    "changed_dimensionality = a_matrix.reshape(12,1)\n",
    "print(changed_dimensionality)\n",
    "print(f'shape : {changed_dimensionality.shape}')"
   ]
  },
  {
   "cell_type": "markdown",
   "metadata": {},
   "source": [
    "- Changing this column vector back to the original `3 x 4` matrix. "
   ]
  },
  {
   "cell_type": "code",
   "execution_count": 13,
   "metadata": {},
   "outputs": [
    {
     "name": "stdout",
     "output_type": "stream",
     "text": [
      "original shape : (12, 1)\n",
      "changed back to original matrix\n",
      "[[1. 1. 1. 1.]\n",
      " [1. 1. 1. 1.]\n",
      " [1. 1. 1. 1.]]\n",
      "shape : (3, 4)\n"
     ]
    }
   ],
   "source": [
    "print(f'original shape : {changed_dimensionality.shape}')\n",
    "\n",
    "changed_dimensionality = changed_dimensionality.reshape(3,4)\n",
    "\n",
    "print(f'changed back to original matrix')\n",
    "\n",
    "print(changed_dimensionality)\n",
    "print(f'shape : {changed_dimensionality.shape}')"
   ]
  },
  {
   "cell_type": "markdown",
   "metadata": {},
   "source": [
    "### Automatically Calculating One of the Dimension\n",
    "- Using -1 as `one of the dimensions` allows NumPy to automatically calculate the correct size for `second dimension` based on the one dimension that is supplied and total number of elements.\n",
    "- Have a look at the following example for better understanding:"
   ]
  },
  {
   "cell_type": "code",
   "execution_count": 14,
   "metadata": {},
   "outputs": [
    {
     "name": "stdout",
     "output_type": "stream",
     "text": [
      "using -1 inplace of column dimensions\n",
      "[[ 1  2  3  4  5  6]\n",
      " [ 7  8  9 10 11 12]]\n",
      "using -1 inplace of row dimensions\n",
      "[[ 1  2  3  4  5  6]\n",
      " [ 7  8  9 10 11 12]]\n"
     ]
    }
   ],
   "source": [
    "# Create a 1D array with 12 elements\n",
    "array = np.array([1, 2, 3, 4, 5, 6, 7, 8, 9, 10, 11, 12])\n",
    "\n",
    "# Reshape it to a 2x6 array using -1 to infer the second dimension\n",
    "reshaped_array = array.reshape(2, -1)\n",
    "print('using -1 inplace of column dimensions')\n",
    "print(reshaped_array)\n",
    "\n",
    "# Reshape it to a 6x2 array using -1 to infer the second dimension\n",
    "reshaped_array = array.reshape(-1, 6)\n",
    "print('using -1 inplace of row dimensions')\n",
    "print(reshaped_array)"
   ]
  },
  {
   "cell_type": "markdown",
   "metadata": {},
   "source": [
    "- __A Note of Reshaping__ :\n",
    "  - It is worth mentioning here that a shape can only be converted into a compatible shape. \n",
    "  - By compatible shape we mean that the original array must have enough elements to populate the newly requested shape. On the other hand, the newly requested shape must accommodate all the elements of the original array, we cannot leave any element out. \n",
    "  - For example an array of `4 x 3` cannot be converted into a `5 x 5` array. The reason is simple the `4 x 3` array have 12 elements while the newly requested shape `5 x 5` requires 25 elements which are not available. "
   ]
  }
 ],
 "metadata": {
  "kernelspec": {
   "display_name": "base",
   "language": "python",
   "name": "python3"
  },
  "language_info": {
   "codemirror_mode": {
    "name": "ipython",
    "version": 3
   },
   "file_extension": ".py",
   "mimetype": "text/x-python",
   "name": "python",
   "nbconvert_exporter": "python",
   "pygments_lexer": "ipython3",
   "version": "3.12.4"
  }
 },
 "nbformat": 4,
 "nbformat_minor": 2
}
